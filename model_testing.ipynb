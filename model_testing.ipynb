{
 "cells": [
  {
   "cell_type": "markdown",
   "metadata": {},
   "source": [
    "## Imports"
   ]
  },
  {
   "cell_type": "code",
   "execution_count": 1,
   "metadata": {},
   "outputs": [
    {
     "name": "stdout",
     "output_type": "stream",
     "text": [
      "Jupyter environment detected. Enabling Open3D WebVisualizer.\n",
      "[Open3D INFO] WebRTC GUI backend enabled.\n",
      "[Open3D INFO] WebRTCWindowSystem: HTTP handshake server disabled.\n"
     ]
    }
   ],
   "source": [
    "import pandas as pd\n",
    "import numpy as np\n",
    "import open3d as o3d\n",
    "import tensorflow as tf\n",
    "from tensorflow import keras\n",
    "import matplotlib.pyplot as plt\n",
    "from sklearn.utils import class_weight\n",
    "\n",
    "from sklearn.model_selection import train_test_split\n",
    "from sklearn.metrics import recall_score, accuracy_score, confusion_matrix, f1_score"
   ]
  },
  {
   "cell_type": "code",
   "execution_count": 2,
   "metadata": {},
   "outputs": [],
   "source": [
    "from sklearn.metrics import precision_recall_curve\n",
    "from numpy import argmax"
   ]
  },
  {
   "cell_type": "code",
   "execution_count": 43,
   "metadata": {},
   "outputs": [],
   "source": [
    "STATISTICS = [\"median\", \"std\", \"max\", \"min\"]\n",
    "CELL_SIZE = 0.5 # 0.5 meters\n",
    "Z_INDEX = 3"
   ]
  },
  {
   "cell_type": "markdown",
   "metadata": {},
   "source": [
    "## Read the data"
   ]
  },
  {
   "cell_type": "code",
   "execution_count": 5,
   "metadata": {},
   "outputs": [],
   "source": [
    "# Read data\n",
    "data = pd.read_csv(\"data/felt2_points.csv\")\n",
    "cols = data.columns.tolist()\n",
    "cols = cols[-1:] + cols[:-1]\n",
    "data = data[cols]"
   ]
  },
  {
   "cell_type": "code",
   "execution_count": 4,
   "metadata": {},
   "outputs": [
    {
     "data": {
      "text/html": [
       "<div>\n",
       "<style scoped>\n",
       "    .dataframe tbody tr th:only-of-type {\n",
       "        vertical-align: middle;\n",
       "    }\n",
       "\n",
       "    .dataframe tbody tr th {\n",
       "        vertical-align: top;\n",
       "    }\n",
       "\n",
       "    .dataframe thead th {\n",
       "        text-align: right;\n",
       "    }\n",
       "</style>\n",
       "<table border=\"1\" class=\"dataframe\">\n",
       "  <thead>\n",
       "    <tr style=\"text-align: right;\">\n",
       "      <th></th>\n",
       "      <th>accepted</th>\n",
       "      <th>x</th>\n",
       "      <th>y</th>\n",
       "      <th>z</th>\n",
       "      <th>thu</th>\n",
       "      <th>tvu</th>\n",
       "    </tr>\n",
       "  </thead>\n",
       "  <tbody>\n",
       "    <tr>\n",
       "      <th>0</th>\n",
       "      <td>1.0</td>\n",
       "      <td>0.00</td>\n",
       "      <td>7.90</td>\n",
       "      <td>39.91</td>\n",
       "      <td>0.09</td>\n",
       "      <td>0.12</td>\n",
       "    </tr>\n",
       "    <tr>\n",
       "      <th>1</th>\n",
       "      <td>1.0</td>\n",
       "      <td>0.00</td>\n",
       "      <td>7.97</td>\n",
       "      <td>39.88</td>\n",
       "      <td>0.21</td>\n",
       "      <td>0.19</td>\n",
       "    </tr>\n",
       "    <tr>\n",
       "      <th>2</th>\n",
       "      <td>1.0</td>\n",
       "      <td>0.05</td>\n",
       "      <td>8.39</td>\n",
       "      <td>39.93</td>\n",
       "      <td>0.23</td>\n",
       "      <td>0.21</td>\n",
       "    </tr>\n",
       "    <tr>\n",
       "      <th>3</th>\n",
       "      <td>1.0</td>\n",
       "      <td>0.06</td>\n",
       "      <td>8.71</td>\n",
       "      <td>39.78</td>\n",
       "      <td>0.09</td>\n",
       "      <td>0.12</td>\n",
       "    </tr>\n",
       "    <tr>\n",
       "      <th>4</th>\n",
       "      <td>1.0</td>\n",
       "      <td>0.07</td>\n",
       "      <td>9.11</td>\n",
       "      <td>40.04</td>\n",
       "      <td>0.15</td>\n",
       "      <td>0.12</td>\n",
       "    </tr>\n",
       "    <tr>\n",
       "      <th>5</th>\n",
       "      <td>1.0</td>\n",
       "      <td>0.07</td>\n",
       "      <td>9.40</td>\n",
       "      <td>40.05</td>\n",
       "      <td>0.15</td>\n",
       "      <td>0.12</td>\n",
       "    </tr>\n",
       "    <tr>\n",
       "      <th>6</th>\n",
       "      <td>1.0</td>\n",
       "      <td>0.08</td>\n",
       "      <td>7.97</td>\n",
       "      <td>39.83</td>\n",
       "      <td>0.15</td>\n",
       "      <td>0.12</td>\n",
       "    </tr>\n",
       "    <tr>\n",
       "      <th>7</th>\n",
       "      <td>1.0</td>\n",
       "      <td>0.08</td>\n",
       "      <td>8.01</td>\n",
       "      <td>39.82</td>\n",
       "      <td>0.16</td>\n",
       "      <td>0.13</td>\n",
       "    </tr>\n",
       "    <tr>\n",
       "      <th>8</th>\n",
       "      <td>1.0</td>\n",
       "      <td>0.08</td>\n",
       "      <td>8.26</td>\n",
       "      <td>39.82</td>\n",
       "      <td>0.15</td>\n",
       "      <td>0.12</td>\n",
       "    </tr>\n",
       "    <tr>\n",
       "      <th>9</th>\n",
       "      <td>1.0</td>\n",
       "      <td>0.08</td>\n",
       "      <td>8.35</td>\n",
       "      <td>39.67</td>\n",
       "      <td>0.21</td>\n",
       "      <td>0.19</td>\n",
       "    </tr>\n",
       "  </tbody>\n",
       "</table>\n",
       "</div>"
      ],
      "text/plain": [
       "   accepted     x     y      z   thu   tvu\n",
       "0       1.0  0.00  7.90  39.91  0.09  0.12\n",
       "1       1.0  0.00  7.97  39.88  0.21  0.19\n",
       "2       1.0  0.05  8.39  39.93  0.23  0.21\n",
       "3       1.0  0.06  8.71  39.78  0.09  0.12\n",
       "4       1.0  0.07  9.11  40.04  0.15  0.12\n",
       "5       1.0  0.07  9.40  40.05  0.15  0.12\n",
       "6       1.0  0.08  7.97  39.83  0.15  0.12\n",
       "7       1.0  0.08  8.01  39.82  0.16  0.13\n",
       "8       1.0  0.08  8.26  39.82  0.15  0.12\n",
       "9       1.0  0.08  8.35  39.67  0.21  0.19"
      ]
     },
     "execution_count": 4,
     "metadata": {},
     "output_type": "execute_result"
    }
   ],
   "source": [
    "data.head(10)"
   ]
  },
  {
   "cell_type": "markdown",
   "metadata": {},
   "source": [
    "## Select area"
   ]
  },
  {
   "cell_type": "code",
   "execution_count": 6,
   "metadata": {},
   "outputs": [],
   "source": [
    "def area_of_dataframe(dataframe, x_start, x_last, y_start, y_last):\n",
    "    area_dataframe = dataframe[\n",
    "        (dataframe[\"x\"] >= x_start) &\n",
    "        (dataframe[\"x\"] < x_last) & \n",
    "        (dataframe[\"y\"] >= y_start) & \n",
    "        (dataframe[\"y\"] < y_last)\n",
    "    ]\n",
    "    return area_dataframe"
   ]
  },
  {
   "cell_type": "code",
   "execution_count": 48,
   "metadata": {},
   "outputs": [
    {
     "data": {
      "text/plain": [
       "43851"
      ]
     },
     "execution_count": 48,
     "metadata": {},
     "output_type": "execute_result"
    }
   ],
   "source": [
    "# Pick an area\n",
    "xStart = np.min(data.x)+20 # Start meter x\n",
    "yStart = np.min(data.y)+0 # Start meter y\n",
    "area = 20\n",
    "data_area = area_of_dataframe(data, xStart, xStart+area, yStart, yStart+area)\n",
    "len(data_area)"
   ]
  },
  {
   "cell_type": "code",
   "execution_count": 22,
   "metadata": {},
   "outputs": [
    {
     "data": {
      "text/plain": [
       "0.1334505137912385"
      ]
     },
     "execution_count": 22,
     "metadata": {},
     "output_type": "execute_result"
    }
   ],
   "source": [
    "len(data_area[data_area.accepted == 0]) / len(data_area[data_area.accepted == 1])"
   ]
  },
  {
   "cell_type": "markdown",
   "metadata": {},
   "source": [
    "## Visualize"
   ]
  },
  {
   "cell_type": "code",
   "execution_count": 11,
   "metadata": {},
   "outputs": [],
   "source": [
    "def visualize_area(data_area, voxel_size=0.02):\n",
    "    _x = np.array(data_area.x)\n",
    "    _y = np.array(data_area.y)\n",
    "    _z = np.array(data_area.z)\n",
    "\n",
    "    _red = np.array(np.zeros(len(data_area.x)))\n",
    "    _green = np.array(np.zeros(len(data_area.x)))\n",
    "    _blue = np.array(np.zeros(len(data_area.x)))\n",
    "\n",
    "    acceptance = np.array(data_area.accepted)\n",
    "    for idx, val in enumerate(acceptance):\n",
    "        \n",
    "        if val > 0:\n",
    "            _green[idx] = 65535\n",
    "        else:\n",
    "            _red[idx] = 65535\n",
    "\n",
    "    pcd = o3d.geometry.PointCloud()\n",
    "\n",
    "    pcd.points = o3d.utility.Vector3dVector(np.vstack((_x, _y, _z)).transpose())\n",
    "    pcd.colors = o3d.utility.Vector3dVector(np.vstack((_red, _green, _blue)).transpose()/65535)\n",
    "\n",
    "    voxel_grid=o3d.geometry.VoxelGrid.create_from_point_cloud(pcd, voxel_size=voxel_size)\n",
    "\n",
    "    o3d.visualization.draw_geometries([voxel_grid])"
   ]
  },
  {
   "cell_type": "code",
   "execution_count": 23,
   "metadata": {},
   "outputs": [],
   "source": [
    "visualize_area(data_area)"
   ]
  },
  {
   "cell_type": "markdown",
   "metadata": {},
   "source": [
    "## Dataframe to normalized cells"
   ]
  },
  {
   "cell_type": "code",
   "execution_count": 24,
   "metadata": {},
   "outputs": [],
   "source": [
    "def cell_statistics(cell, z_index):\n",
    "    cell_z = cell[:, z_index]\n",
    "    median = np.median(cell_z)\n",
    "    std = np.std(cell_z)\n",
    "    mx = np.max(cell_z)\n",
    "    mn = np.min(cell_z)\n",
    "\n",
    "    return median, std, mx, mn"
   ]
  },
  {
   "cell_type": "code",
   "execution_count": 25,
   "metadata": {},
   "outputs": [],
   "source": [
    "def dataframe_to_normalized_stats_cells(dataframe, cells_in_x, cells_in_y, MinMaxArea, z_index):\n",
    "    cells = []\n",
    "    visualize_cell = []\n",
    "\n",
    "    sample_min = np.min(MinMaxArea, axis=0)\n",
    "    sample_max = np.max(MinMaxArea, axis=0)\n",
    "\n",
    "    for ix, x in enumerate(cells_in_x):\n",
    "        for iy, y in enumerate(cells_in_y):\n",
    "            if ix != 0 and iy != 0:\n",
    "                cell = np.array(area_of_dataframe(dataframe, cells_in_x[ix-1], x, cells_in_y[iy-1], y)) \n",
    "                visualize_cell.append(cell)            \n",
    "\n",
    "                if len(cell) <= 0:\n",
    "                    cells.append(cell)\n",
    "                else:\n",
    "                    # Normalize\n",
    "                    norm_cell = (cell - sample_min) / (sample_max - sample_min)\n",
    "                    \n",
    "                    # Add cell statistics\n",
    "                    median, std, mx, mn = cell_statistics(norm_cell, z_index)\n",
    "                    stats = np.array([[median, std, mx, mn] for i in range(len(norm_cell))])\n",
    "                    norm_cell_stats = np.append(norm_cell, stats, axis=1)\n",
    "\n",
    "                    cells.append(norm_cell_stats)\n",
    "    \n",
    "    return cells, visualize_cell"
   ]
  },
  {
   "cell_type": "code",
   "execution_count": 49,
   "metadata": {},
   "outputs": [],
   "source": [
    "# Turn area into cells\n",
    "cells_in_x = np.arange(data_area.x.min(), data_area.x.max()+CELL_SIZE, CELL_SIZE)\n",
    "cells_in_y = np.arange(data_area.y.min(), data_area.y.max()+CELL_SIZE, CELL_SIZE)\n",
    "cells, visualize_cells = dataframe_to_normalized_stats_cells(data_area, cells_in_x, cells_in_y, np.array(data), Z_INDEX)"
   ]
  },
  {
   "cell_type": "markdown",
   "metadata": {},
   "source": [
    "## Find cell neighbors"
   ]
  },
  {
   "cell_type": "code",
   "execution_count": 27,
   "metadata": {},
   "outputs": [],
   "source": [
    "def check_neighbor(all_stats, current_cell, len_stats):\n",
    "    if len(current_cell) <= 0:\n",
    "        return np.concatenate((all_stats, np.array([-1 for i in range(len_stats)])), axis=0)\n",
    "    else:\n",
    "        return np.concatenate((all_stats, current_cell[0, -len_stats:]), axis=0)"
   ]
  },
  {
   "cell_type": "code",
   "execution_count": 28,
   "metadata": {},
   "outputs": [],
   "source": [
    "def get_cell_neighbors(cells, cells_in_y, num_neighbors, len_stats, visualize_cells):\n",
    "    num_cells_in_y = len(cells_in_y)-1\n",
    "    neighbor_cells = []\n",
    "    neighor_visualize_cells = []\n",
    "\n",
    "    for cell_idx in range(len(cells)):\n",
    "        if len(cells[cell_idx]) <= 0:\n",
    "            continue\n",
    "\n",
    "        if cell_idx < num_cells_in_y*num_neighbors or cell_idx >= len(cells)-num_cells_in_y*num_neighbors:\n",
    "            continue # Continue on horizontal edges\n",
    "        if (cell_idx % num_cells_in_y) < num_neighbors or (cell_idx % num_cells_in_y) >= num_cells_in_y-num_neighbors:\n",
    "            continue # Continue on vertical edges\n",
    "\n",
    "        all_neighbor_stats = np.array([])\n",
    "        for nx in range(1, num_neighbors+1):\n",
    "            all_neighbor_stats = check_neighbor(all_neighbor_stats, cells[(cell_idx-(num_cells_in_y*nx))], len_stats) # Neighbors to the left\n",
    "            all_neighbor_stats = check_neighbor(all_neighbor_stats, cells[(cell_idx-nx)], len_stats) # Neighbors above\n",
    "            all_neighbor_stats = check_neighbor(all_neighbor_stats, cells[(cell_idx+nx)], len_stats) # Neighbors below\n",
    "            all_neighbor_stats = check_neighbor(all_neighbor_stats, cells[(cell_idx+(num_cells_in_y*nx))], len_stats) # Neighbors to the right\n",
    "            for ny in range(1, num_neighbors+1):\n",
    "                all_neighbor_stats = check_neighbor(all_neighbor_stats, cells[(cell_idx-((num_cells_in_y*nx)+ny))], len_stats) # Left corners\n",
    "                all_neighbor_stats = check_neighbor(all_neighbor_stats, cells[(cell_idx-((num_cells_in_y*nx)-ny))], len_stats) # Left corners\n",
    "                all_neighbor_stats = check_neighbor(all_neighbor_stats, cells[(cell_idx+((num_cells_in_y*nx)-ny))], len_stats) # Right corners\n",
    "                all_neighbor_stats = check_neighbor(all_neighbor_stats, cells[(cell_idx+((num_cells_in_y*nx)+ny))], len_stats) # Right corners\n",
    "\n",
    "        # Add stats to current cell\n",
    "        stats = np.array([all_neighbor_stats for i in range(len(cells[cell_idx]))]) # np.concatenate instead?\n",
    "        neighbor_cell_stats = np.append(cells[cell_idx], stats, axis=1)\n",
    "        neighbor_cells.append(neighbor_cell_stats)\n",
    "        neighor_visualize_cells.append(visualize_cells[cell_idx])\n",
    "\n",
    "    return neighbor_cells, neighor_visualize_cells"
   ]
  },
  {
   "cell_type": "code",
   "execution_count": 50,
   "metadata": {},
   "outputs": [],
   "source": [
    "# Get neighbor cells for each cell\n",
    "num_neighbors = 4\n",
    "neighbors, neighbors_visualize = get_cell_neighbors(cells, cells_in_y, num_neighbors, len(STATISTICS), visualize_cells)\n",
    "processed_data = np.concatenate(neighbors)\n",
    "processed_data_visualize = np.concatenate(neighbors_visualize)"
   ]
  },
  {
   "cell_type": "code",
   "execution_count": 51,
   "metadata": {},
   "outputs": [
    {
     "data": {
      "text/plain": [
       "(26609, 330)"
      ]
     },
     "execution_count": 51,
     "metadata": {},
     "output_type": "execute_result"
    }
   ],
   "source": [
    "processed_data.shape"
   ]
  },
  {
   "cell_type": "code",
   "execution_count": 52,
   "metadata": {},
   "outputs": [],
   "source": [
    "X_test = processed_data[:, Z_INDEX:]\n",
    "y_test = processed_data[:, 0]\n",
    "X_visualize = processed_data_visualize[:, 1:4]\n",
    "y_visualize = processed_data_visualize[:, 0]"
   ]
  },
  {
   "cell_type": "markdown",
   "metadata": {},
   "source": [
    "## Load and test models"
   ]
  },
  {
   "cell_type": "code",
   "execution_count": 33,
   "metadata": {},
   "outputs": [],
   "source": [
    "def evaluate(y_test, y_pred):\n",
    "    confusion = confusion_matrix(y_test, y_pred)\n",
    "    f1 = f1_score(y_test, y_pred)\n",
    "    accuracy = accuracy_score(y_test, y_pred)\n",
    "    recall = recall_score(y_test, y_pred)\n",
    "    return confusion, f1, accuracy, recall\n",
    "\n",
    "def evaluate_testing(y_test, y_pred):\n",
    "    confusion, f1, accuracy, recall = evaluate(y_test, y_pred)\n",
    "    print(\"Confusion matrixes: \")\n",
    "    print(confusion)\n",
    "    print(\"\\n\")\n",
    "    print(\"F1 score: \" + str(np.round(np.mean(f1), 4)) + \"\\n\")\n",
    "    print(\"Accuracy score: \" + str(np.round(np.mean(accuracy), 4)) + \"\\n\")\n",
    "    print(\"Recall score: \" + str(np.round(np.mean(recall), 4)))"
   ]
  },
  {
   "cell_type": "code",
   "execution_count": 53,
   "metadata": {},
   "outputs": [
    {
     "name": "stdout",
     "output_type": "stream",
     "text": [
      "WARNING:tensorflow:SavedModel saved prior to TF 2.5 detected when loading Keras model. Please ensure that you are saving the model with model.save() or tf.keras.models.save_model(), *NOT* tf.saved_model.save(). To confirm, there should be a file named \"keras_metadata.pb\" in the SavedModel directory.\n"
     ]
    }
   ],
   "source": [
    "model = tf.keras.models.load_model(\"models/c05_n4_basic\") "
   ]
  },
  {
   "cell_type": "code",
   "execution_count": 54,
   "metadata": {},
   "outputs": [
    {
     "name": "stdout",
     "output_type": "stream",
     "text": [
      "832/832 [==============================] - 4s 5ms/step - loss: 2.7749 - binary_accuracy: 0.9157\n",
      "832/832 [==============================] - 2s 2ms/step\n",
      "Confusion matrixes: \n",
      "[[    0  2243]\n",
      " [    0 24366]]\n",
      "\n",
      "\n",
      "F1 score: 0.956\n",
      "\n",
      "Accuracy score: 0.9157\n",
      "\n",
      "Recall score: 1.0\n"
     ]
    }
   ],
   "source": [
    "# Testing\n",
    "test_loss, test_acc = model.evaluate(X_test, y_test)\n",
    "prediction = model.predict(X_test)\n",
    "evaluate_testing(y_test, prediction.round())"
   ]
  },
  {
   "cell_type": "code",
   "execution_count": 56,
   "metadata": {},
   "outputs": [],
   "source": [
    "combine = np.concatenate((X_visualize, prediction.round()), axis=1)\n",
    "visualize_result = pd.DataFrame(combine, columns=[\"x\", \"y\", \"z\", \"accepted\"])\n",
    "visualize_area(visualize_result)"
   ]
  },
  {
   "cell_type": "code",
   "execution_count": 55,
   "metadata": {},
   "outputs": [
    {
     "data": {
      "image/png": "[encoded data removed]",
      "text/plain": [
       "<Figure size 432x288 with 1 Axes>"
      ]
     },
     "metadata": {
      "needs_background": "light"
     },
     "output_type": "display_data"
    }
   ],
   "source": [
    "precision, recall, thresholds = precision_recall_curve(y_test, prediction)\n",
    "# Using recall and precision at thresholds to find the middle ground for both\n",
    "plt.plot(thresholds, precision[0:-1], label=\"Precision\")\n",
    "plt.plot(thresholds, recall[0:-1], label=\"Recall\")\n",
    "plt.xlabel('Thresholds')\n",
    "plt.ylabel('Score')\n",
    "plt.legend()\n",
    "plt.title(\"Precision and recall at thresholds\", fontsize=14)\n",
    "plt.show()"
   ]
  },
  {
   "cell_type": "markdown",
   "metadata": {},
   "source": [
    "## Large model"
   ]
  },
  {
   "cell_type": "code",
   "execution_count": 23,
   "metadata": {},
   "outputs": [
    {
     "name": "stdout",
     "output_type": "stream",
     "text": [
      "WARNING:tensorflow:SavedModel saved prior to TF 2.5 detected when loading Keras model. Please ensure that you are saving the model with model.save() or tf.keras.models.save_model(), *NOT* tf.saved_model.save(). To confirm, there should be a file named \"keras_metadata.pb\" in the SavedModel directory.\n",
      "2282/2282 [==============================] - 13s 6ms/step - loss: 1.2456 - binary_accuracy: 0.9471\n",
      "2282/2282 [==============================] - 6s 3ms/step\n",
      "Confusion matrixes: \n",
      "[[    0  3861]\n",
      " [    0 69136]]\n",
      "\n",
      "\n",
      "F1 score: 0.9728\n",
      "\n",
      "Accuracy score: 0.9471\n",
      "\n",
      "Recall score: 1.0\n"
     ]
    }
   ],
   "source": [
    "model = tf.keras.models.load_model(\"models/c03_n3_us_l5large_dropout/\")\n",
    "# Testing\n",
    "test_loss, test_acc = model.evaluate(X_test, y_test)\n",
    "prediction = model.predict(X_test)\n",
    "evaluate_testing(y_test, prediction.round())"
   ]
  },
  {
   "cell_type": "code",
   "execution_count": 25,
   "metadata": {},
   "outputs": [],
   "source": [
    "precision, recall, thresholds = precision_recall_curve(y_test, prediction)"
   ]
  },
  {
   "cell_type": "code",
   "execution_count": null,
   "metadata": {},
   "outputs": [],
   "source": [
    "\n",
    "# Using recall and precision at thresholds for optimal f2 scores\n",
    "fscore = (2 * precision * recall) / (precision + recall)\n",
    "ix = argmax(fscore)\n",
    "print('Best Threshold=%f, F-Score=%.3f' % (thresholds[ix], fscore[ix]))"
   ]
  },
  {
   "cell_type": "code",
   "execution_count": 26,
   "metadata": {},
   "outputs": [
    {
     "data": {
      "image/png": "[encoded data removed]",
      "text/plain": [
       "<Figure size 432x288 with 1 Axes>"
      ]
     },
     "metadata": {
      "needs_background": "light"
     },
     "output_type": "display_data"
    }
   ],
   "source": [
    "# Using recall and precision at thresholds to find the middle ground for both\n",
    "plt.plot(thresholds, precision[0:-1], label=\"Precision\")\n",
    "plt.plot(thresholds, recall[0:-1], label=\"Recall\")\n",
    "plt.xlabel('Thresholds')\n",
    "plt.ylabel('Score')\n",
    "plt.legend()\n",
    "plt.title(\"Precision and recall at thresholds\", fontsize=14)\n",
    "plt.show()"
   ]
  },
  {
   "cell_type": "code",
   "execution_count": 36,
   "metadata": {},
   "outputs": [
    {
     "name": "stdout",
     "output_type": "stream",
     "text": [
      "Confusion matrixes: \n",
      "[[   45  3816]\n",
      " [  553 68583]]\n",
      "\n",
      "\n",
      "F1 score: 0.9691\n",
      "\n",
      "Accuracy score: 0.9401\n",
      "\n",
      "Recall score: 0.992\n"
     ]
    }
   ],
   "source": [
    "# Visualize data\n",
    "alt_threshold_prediction = np.where(prediction > 0.99999, 1, 0)\n",
    "evaluate_testing(y_test, alt_threshold_prediction)"
   ]
  }
 ],
 "metadata": {
  "kernelspec": {
   "display_name": "Python 3.9.6 64-bit",
   "language": "python",
   "name": "python3"
  },
  "language_info": {
   "codemirror_mode": {
    "name": "ipython",
    "version": 3
   },
   "file_extension": ".py",
   "mimetype": "text/x-python",
   "name": "python",
   "nbconvert_exporter": "python",
   "pygments_lexer": "ipython3",
   "version": "3.9.6"
  },
  "orig_nbformat": 4,
  "vscode": {
   "interpreter": {
    "hash": "773605ce8f27446b9c69ae732168258e47ea10fbda5833a68cc76e4c6c0866c9"
   }
  }
 },
 "nbformat": 4,
 "nbformat_minor": 2
}
