{
 "cells": [
  {
   "cell_type": "markdown",
   "metadata": {},
   "source": [
    "## Read .xyz point cloud to .csv"
   ]
  },
  {
   "cell_type": "code",
   "execution_count": 1,
   "metadata": {},
   "outputs": [],
   "source": [
    "import pandas as pd\n",
    "import numpy as np"
   ]
  },
  {
   "cell_type": "code",
   "execution_count": 2,
   "metadata": {},
   "outputs": [],
   "source": [
    "felt1_accepted = \"preprocessing/felt1_akseptert.xyz\"\n",
    "felt1_rejected = \"preprocessing/felt1_forkastet.xyz\"\n",
    "\n",
    "felt2_accepted = \"preprocessing/felt2_akseptert.xyz\"\n",
    "felt2_rejected = \"preprocessing/felt2_forkastet.xyz\""
   ]
  },
  {
   "cell_type": "code",
   "execution_count": 3,
   "metadata": {},
   "outputs": [],
   "source": [
    "def xyz_to_dataframe(accepted_xyz, rejected_xyz):\n",
    "    # Hold all data read\n",
    "    read_data = []\n",
    "    dataframes = []\n",
    "\n",
    "    # Rejected data\n",
    "    with open(rejected_xyz, 'r') as file:\n",
    "        lines = file.readlines()\n",
    "        for idx, line in enumerate(lines):\n",
    "            columns = line.strip().split(\" \")\n",
    "            columns.append(0)\n",
    "            read_data.append(np.array(columns, dtype=float))\n",
    "\n",
    "            if (idx != 0) and ((idx % 100000) == 0):\n",
    "                dataframe = pd.DataFrame(read_data, columns=[\"x\", \"y\", \"z\", \"thu\", \"tvu\", \"accepted\"])\n",
    "                dataframes.append(dataframe)\n",
    "                read_data = []\n",
    "        dataframe = pd.DataFrame(read_data, columns=[\"x\", \"y\", \"z\", \"thu\", \"tvu\", \"accepted\"])\n",
    "        dataframes.append(dataframe)\n",
    "\n",
    "\n",
    "    # Accepted data\n",
    "    with open(accepted_xyz, 'r') as file:\n",
    "        lines = file.readlines()\n",
    "        for idx, line in enumerate(lines):\n",
    "            columns = line.strip().split(\" \")\n",
    "            columns.append(1)\n",
    "            read_data.append(np.array(columns, dtype=float))\n",
    "\n",
    "            if (idx != 0) and ((idx % 500000) == 0):\n",
    "                dataframe = pd.DataFrame(read_data, columns=[\"x\", \"y\", \"z\", \"thu\", \"tvu\", \"accepted\"])\n",
    "                dataframes.append(dataframe)\n",
    "                read_data = []\n",
    "        dataframe = pd.DataFrame(read_data, columns=[\"x\", \"y\", \"z\", \"thu\", \"tvu\", \"accepted\"])\n",
    "        dataframes.append(dataframe)\n",
    "\n",
    "    # Combine all dataframes\n",
    "    data = pd.concat(dataframes, ignore_index=True)\n",
    "    data = data.sort_values(by=[\"x\", \"y\", \"z\"], ascending=True)\n",
    "    data = data[(data[\"thu\"] >= 0) & (data[\"tvu\"] >= 0)]\n",
    "    data.x -= np.min(data.x)\n",
    "    data.y -= np.min(data.y)\n",
    "    data.z -= np.min(data.z)\n",
    "\n",
    "    return data"
   ]
  },
  {
   "cell_type": "code",
   "execution_count": 4,
   "metadata": {},
   "outputs": [],
   "source": [
    "felt1_data = xyz_to_dataframe(felt1_accepted, felt1_rejected)\n",
    "felt2_data = xyz_to_dataframe(felt2_accepted, felt2_rejected)"
   ]
  },
  {
   "cell_type": "code",
   "execution_count": 5,
   "metadata": {},
   "outputs": [],
   "source": [
    "felt1_data.to_csv(\"data/felt1_points.csv\", index=False)\n",
    "felt2_data.to_csv(\"data/felt2_points.csv\", index=False)"
   ]
  }
 ],
 "metadata": {
  "kernelspec": {
   "display_name": "Python 3.9.6 64-bit",
   "language": "python",
   "name": "python3"
  },
  "language_info": {
   "codemirror_mode": {
    "name": "ipython",
    "version": 3
   },
   "file_extension": ".py",
   "mimetype": "text/x-python",
   "name": "python",
   "nbconvert_exporter": "python",
   "pygments_lexer": "ipython3",
   "version": "3.9.6"
  },
  "orig_nbformat": 4,
  "vscode": {
   "interpreter": {
    "hash": "773605ce8f27446b9c69ae732168258e47ea10fbda5833a68cc76e4c6c0866c9"
   }
  }
 },
 "nbformat": 4,
 "nbformat_minor": 2
}
