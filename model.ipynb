{
 "cells": [
  {
   "cell_type": "code",
   "execution_count": null,
   "metadata": {},
   "outputs": [],
   "source": [
    "import pandas as pd\n",
    "import numpy as np\n",
    "import tensorflow as tf\n",
    "from tensorflow import keras\n",
    "import matplotlib.pyplot as plt\n",
    "from sklearn.utils import class_weight\n",
    "from sklearn.decomposition import PCA\n",
    "from imblearn.combine import SMOTEENN\n",
    "import time\n",
    "\n",
    "# Additional\n",
    "import open3d as o3d"
   ]
  },
  {
   "cell_type": "code",
   "execution_count": null,
   "metadata": {},
   "outputs": [],
   "source": [
    "startTime = time.time()"
   ]
  },
  {
   "cell_type": "code",
   "execution_count": null,
   "metadata": {},
   "outputs": [],
   "source": [
    "VAL_SPLIT = 0.1 # 10%\n",
    "STATISTICS = [\"median\", \"std\", \"max\", \"min\"]\n",
    "CELL_SIZE = 0.1 # 0.5 meters"
   ]
  },
  {
   "cell_type": "code",
   "execution_count": null,
   "metadata": {},
   "outputs": [],
   "source": [
    "data = pd.read_csv(\"data/felt1_points.csv\")"
   ]
  },
  {
   "cell_type": "code",
   "execution_count": null,
   "metadata": {},
   "outputs": [],
   "source": [
    "def area_of_dataframe(dataframe, x_start, x_last, y_start, y_last):\n",
    "    area_dataframe = dataframe[\n",
    "        (dataframe[\"x\"] >= x_start) &\n",
    "        (dataframe[\"x\"] <= x_last) & \n",
    "        (dataframe[\"y\"] >= y_start) & \n",
    "        (dataframe[\"y\"] <= y_last)\n",
    "    ]\n",
    "    return area_dataframe\n",
    "\n",
    "xMax = data.x.max()/10\n",
    "yMax = data.y.max()/10\n",
    "data_area = area_of_dataframe(data, 0, 0+xMax, 0, 0+yMax)\n",
    "data_area"
   ]
  },
  {
   "cell_type": "code",
   "execution_count": null,
   "metadata": {},
   "outputs": [],
   "source": [
    "def visualize_area(data_area):\n",
    "    _x = np.array(data_area.x)\n",
    "    _y = np.array(data_area.y)\n",
    "    _z = np.array(data_area.z)\n",
    "\n",
    "    _red = np.array(np.zeros(len(data_area.x)))\n",
    "    _green = np.array(np.zeros(len(data_area.x)))\n",
    "    _blue = np.array(np.zeros(len(data_area.x)))\n",
    "\n",
    "    acceptance = np.array(data_area.accepted)\n",
    "    for idx, val in enumerate(acceptance):\n",
    "        \n",
    "        if val > 0:\n",
    "            _green[idx] = 65535\n",
    "        else:\n",
    "            _red[idx] = 65535\n",
    "\n",
    "    pcd = o3d.geometry.PointCloud()\n",
    "\n",
    "    pcd.points = o3d.utility.Vector3dVector(np.vstack((_x, _y, _z)).transpose())\n",
    "    pcd.colors = o3d.utility.Vector3dVector(np.vstack((_red, _green, _blue)).transpose()/65535)\n",
    "\n",
    "    voxel_grid=o3d.geometry.VoxelGrid.create_from_point_cloud(pcd, voxel_size=0.02)\n",
    "\n",
    "    o3d.visualization.draw_geometries([voxel_grid])"
   ]
  },
  {
   "cell_type": "code",
   "execution_count": null,
   "metadata": {},
   "outputs": [],
   "source": [
    "visualize_area(data_area)"
   ]
  },
  {
   "cell_type": "code",
   "execution_count": null,
   "metadata": {},
   "outputs": [],
   "source": [
    "def dataframe_to_cells(dataframe, cells_in_x, cells_in_y):\n",
    "    cells = []\n",
    "\n",
    "    for ix, x in enumerate(cells_in_x):\n",
    "        for iy, y in enumerate(cells_in_y):\n",
    "            if ix != 0 and iy != 0:\n",
    "                cell = area_of_dataframe(dataframe, cells_in_x[ix-1], x, cells_in_y[iy-1], y)\n",
    "                cells.append(cell) # Use np.array here(?)\n",
    "    \n",
    "    return cells\n",
    "\n",
    "# Turn into cells before normalizing to ensure 0.5m areas\n",
    "cells_in_x = np.arange(0, xMax+CELL_SIZE, CELL_SIZE)\n",
    "cells_in_y = np.arange(0, yMax+CELL_SIZE, CELL_SIZE)\n",
    "cells = dataframe_to_cells(data_area, cells_in_x, cells_in_y)"
   ]
  },
  {
   "cell_type": "code",
   "execution_count": null,
   "metadata": {},
   "outputs": [],
   "source": [
    "print(xMax)\n",
    "print(len(cells_in_x))\n",
    "print(yMax)\n",
    "print(len(cells_in_y))"
   ]
  },
  {
   "cell_type": "code",
   "execution_count": null,
   "metadata": {},
   "outputs": [],
   "source": [
    "def normalize_cells_area(cells, MinMaxArea):\n",
    "    normalized_cells = []\n",
    "\n",
    "    for cell in cells:\n",
    "        norm_cell = (cell - MinMaxArea.min()) / (MinMaxArea.max() - MinMaxArea.min())\n",
    "        normalized_cells.append(norm_cell)\n",
    "\n",
    "    return normalized_cells\n",
    "    \n",
    "# Min-Max normalization\n",
    "norm_cells = normalize_cells_area(cells, data_area)"
   ]
  },
  {
   "cell_type": "code",
   "execution_count": 1,
   "metadata": {},
   "outputs": [],
   "source": [
    "def get_cell_neighbors(cells, cells_in_x, cells_in_y, num_neighbors):\n",
    "    num_cells_in_y = len(cells_in_y)-1\n",
    "    neighbors = {}\n",
    "\n",
    "    for cell_idx in range(len(cells)):\n",
    "        if cell_idx < num_cells_in_y*num_neighbors or cell_idx >= len(cells)-num_cells_in_y*num_neighbors:\n",
    "            continue # Continue on horizontal edges\n",
    "        if (cell_idx % num_cells_in_y) < num_neighbors or (cell_idx % num_cells_in_y) >= num_cells_in_y-num_neighbors:\n",
    "            continue # Continue on vertical edges\n",
    "\n",
    "        neighbors[cell_idx] = []\n",
    "        for nx in range(1, num_neighbors+1):\n",
    "            neighbors[cell_idx].append(cell_idx-(num_cells_in_y*nx)) # Neighbors to the left\n",
    "            neighbors[cell_idx].append(cell_idx-nx) # Neighbors above\n",
    "            neighbors[cell_idx].append(cell_idx+nx) # Neighbors below\n",
    "            neighbors[cell_idx].append(cell_idx+(num_cells_in_y*nx)) # Neighbors to the right\n",
    "            for ny in range(1, num_neighbors+1):       \n",
    "                neighbors[cell_idx].append(cell_idx-((num_cells_in_y*nx)+ny)) # Left corners\n",
    "                neighbors[cell_idx].append(cell_idx-((num_cells_in_y*nx)-ny)) # Left corners\n",
    "                neighbors[cell_idx].append(cell_idx+((num_cells_in_y*nx)-ny)) # Right corners\n",
    "                neighbors[cell_idx].append(cell_idx+((num_cells_in_y*nx)+ny)) # Right corners\n",
    "\n",
    "    return neighbors\n",
    "\n",
    "# Get neighbor cells\n",
    "neighbors = 2\n",
    "neighbors = get_cell_neighbors(norm_cells, cells_in_x, cells_in_y)"
   ]
  },
  {
   "cell_type": "code",
   "execution_count": null,
   "metadata": {},
   "outputs": [],
   "source": [
    "def cell_statistics(cell):\n",
    "    median = np.median(cell.z)\n",
    "    std = np.std(cell.z)\n",
    "    mx = np.max(cell.z)\n",
    "    mn = np.min(cell.z)\n",
    "\n",
    "    return median, std, mx, mn"
   ]
  },
  {
   "cell_type": "code",
   "execution_count": null,
   "metadata": {},
   "outputs": [],
   "source": [
    "def calculate_statistics(neighbors, cells):\n",
    "    # Get all statistics\n",
    "    for key in neighbors:\n",
    "        # Skip if there is no points in the cell\n",
    "        if len(cells[key]) == 0: \n",
    "            continue\n",
    "\n",
    "        # Cell indexes to check for statistics\n",
    "        cell_indexes = [key] + neighbors[key]\n",
    "\n",
    "        # Find statistics if each cell\n",
    "        statistics = []\n",
    "        for idx in cell_indexes:\n",
    "            if len(cells[idx]) == 0:\n",
    "                # Empty statistics if neighbor has nothing to show for\n",
    "                for i in range(len(STATISTICS)):\n",
    "                    statistics.append(-1)\n",
    "            else:\n",
    "                median, std, mx, mn = cell_statistics(cells[idx]) \n",
    "                statistics.append(median)\n",
    "                statistics.append(std)\n",
    "                statistics.append(mx)\n",
    "                statistics.append(mn)\n",
    "\n",
    "        # Add it to the current cell\n",
    "        for idx, stats in enumerate(statistics):\n",
    "            col_name = STATISTICS[(idx % len(STATISTICS))] + str(idx)\n",
    "            cells[key][col_name] = stats\n",
    "\n",
    "    return cells\n",
    "\n",
    "# Calculate statistics\n",
    "stat_cells = calculate_statistics(neighbors, norm_cells)"
   ]
  },
  {
   "cell_type": "code",
   "execution_count": null,
   "metadata": {},
   "outputs": [],
   "source": [
    "def get_x_and_y(wanted_indexes, norm_cells, cells,):\n",
    "    # Pick out our wanted indexes\n",
    "    wanted_cells = []\n",
    "    for idx in wanted_indexes:\n",
    "        if len(cells[idx]) == 0:\n",
    "            continue\n",
    "        wanted_cells.append(norm_cells[idx])\n",
    "\n",
    "    # Combine the cells as one dataframe\n",
    "    combined_cells = pd.concat(wanted_cells, ignore_index=True)\n",
    "\n",
    "    # Get x columns\n",
    "    cols = []\n",
    "    for col in norm_cells[wanted_indexes[0]].columns:\n",
    "        if col == \"x\":\n",
    "            continue\n",
    "        if col == \"y\":\n",
    "            continue\n",
    "        if col == \"accepted\":\n",
    "            continue\n",
    "        cols.append(col)\n",
    "\n",
    "    # Get train and test from combined cells\n",
    "    x = np.array(combined_cells.loc[:, cols])\n",
    "    y = np.array(combined_cells.accepted)\n",
    "\n",
    "    return x, y\n",
    "\n",
    "# Prepare the data from the dataset\n",
    "train_split = int(len(non_edge_cells) * (1 - VAL_SPLIT))\n",
    "\n",
    "train_cell_indexes = non_edge_cells[:train_split]\n",
    "test_cell_indexes = non_edge_cells[train_split:]\n",
    "\n",
    "x_train, y_train = get_x_and_y(train_cell_indexes, stat_cells, cells)\n",
    "x_val, y_val = get_x_and_y(test_cell_indexes, stat_cells, cells)"
   ]
  },
  {
   "cell_type": "code",
   "execution_count": null,
   "metadata": {},
   "outputs": [],
   "source": [
    "executionTime = (time.time() - startTime)\n",
    "print('Execution time in seconds: ' + str(executionTime))"
   ]
  }
 ],
 "metadata": {
  "kernelspec": {
   "display_name": "Python 3.9.6 64-bit",
   "language": "python",
   "name": "python3"
  },
  "language_info": {
   "codemirror_mode": {
    "name": "ipython",
    "version": 3
   },
   "file_extension": ".py",
   "mimetype": "text/x-python",
   "name": "python",
   "nbconvert_exporter": "python",
   "pygments_lexer": "ipython3",
   "version": "3.9.6"
  },
  "orig_nbformat": 4,
  "vscode": {
   "interpreter": {
    "hash": "773605ce8f27446b9c69ae732168258e47ea10fbda5833a68cc76e4c6c0866c9"
   }
  }
 },
 "nbformat": 4,
 "nbformat_minor": 2
}
