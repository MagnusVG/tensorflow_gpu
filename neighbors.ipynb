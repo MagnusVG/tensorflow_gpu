{
 "cells": [
  {
   "cell_type": "code",
   "execution_count": 124,
   "metadata": {},
   "outputs": [],
   "source": [
    "import numpy as np\n",
    "import pandas as pd\n",
    "import matplotlib.pyplot as plt"
   ]
  },
  {
   "cell_type": "code",
   "execution_count": 127,
   "metadata": {},
   "outputs": [
    {
     "data": {
      "image/png": "[encoded data removed]",
      "text/plain": [
       "<Figure size 432x288 with 1 Axes>"
      ]
     },
     "metadata": {
      "needs_background": "light"
     },
     "output_type": "display_data"
    }
   ],
   "source": [
    "# Data for plotting\n",
    "t = np.arange(0.0, 2.0, 0.01)\n",
    "s = 1 + np.sin(2 * np.pi * t)\n",
    "\n",
    "plt.plot(t, s)\n",
    "plt.xlabel(\"time (s)\")\n",
    "plt.ylabel(\"voltage (mV)\")\n",
    "plt.title(\"Simple Plot\")\n",
    "plt.grid()\n",
    "plt.savefig(\"test.jpg\")\n",
    "plt.show()"
   ]
  },
  {
   "cell_type": "code",
   "execution_count": 87,
   "metadata": {},
   "outputs": [
    {
     "name": "stdout",
     "output_type": "stream",
     "text": [
      "8\n",
      "16\n"
     ]
    }
   ],
   "source": [
    "CELL_SIZE = 0.5\n",
    "cells_in_x = np.arange(0, 4+CELL_SIZE, CELL_SIZE)\n",
    "cells_in_y = np.arange(0, 8+CELL_SIZE, CELL_SIZE)\n",
    "print(len(cells_in_x)-1)\n",
    "print(len(cells_in_y)-1)"
   ]
  },
  {
   "cell_type": "code",
   "execution_count": 89,
   "metadata": {},
   "outputs": [],
   "source": [
    "cells = []\n",
    "for ix, x in enumerate(cells_in_x):\n",
    "    if ix == 0:\n",
    "        continue\n",
    "    for iy, y in enumerate(cells_in_y):\n",
    "        if iy == 0:\n",
    "            continue\n",
    "\n",
    "        cells.append(pd.DataFrame([[i for i in range(3)], [i for i in range(3)]], columns=[\"x\", \"y\", \"z\"]))"
   ]
  },
  {
   "cell_type": "code",
   "execution_count": 116,
   "metadata": {},
   "outputs": [],
   "source": [
    "def get_cell_neighbors(cells, cells_in_x, cells_in_y, num_neighbors):\n",
    "    num_cells_in_y = len(cells_in_y)-1\n",
    "\n",
    "    neighbors = {}\n",
    "    non_edge_cells = []\n",
    "\n",
    "    for cell_idx in range(len(cells)):\n",
    "        if cell_idx < num_cells_in_y*num_neighbors or cell_idx >= len(cells)-num_cells_in_y*num_neighbors:\n",
    "            continue # Continue on horizontal edges\n",
    "        if (cell_idx % num_cells_in_y) < num_neighbors:\n",
    "            continue\n",
    "        if (cell_idx % num_cells_in_y) >= num_cells_in_y-num_neighbors:\n",
    "            continue\n",
    "\n",
    "        neighbors[cell_idx] = []\n",
    "        for nx in range(1, num_neighbors+1):\n",
    "            neighbors[cell_idx].append(cell_idx-(num_cells_in_y*nx)) # Neighbors to the left\n",
    "            neighbors[cell_idx].append(cell_idx-nx) # Neighbors above\n",
    "            neighbors[cell_idx].append(cell_idx+nx) # Neighbors below\n",
    "            neighbors[cell_idx].append(cell_idx+(num_cells_in_y*nx)) # Neighbors to the right\n",
    "            for ny in range(1, num_neighbors+1):       \n",
    "                neighbors[cell_idx].append(cell_idx-((num_cells_in_y*nx)+ny)) # Left corners\n",
    "                neighbors[cell_idx].append(cell_idx-((num_cells_in_y*nx)-ny)) # Left corners\n",
    "                neighbors[cell_idx].append(cell_idx+((num_cells_in_y*nx)-ny)) # Right corners\n",
    "                neighbors[cell_idx].append(cell_idx+((num_cells_in_y*nx)+ny)) # Right corners\n",
    "\n",
    "        non_edge_cells.append(cell_idx)\n",
    "\n",
    "    return neighbors, non_edge_cells"
   ]
  },
  {
   "cell_type": "code",
   "execution_count": 120,
   "metadata": {},
   "outputs": [],
   "source": [
    "# Get neighbor cells\n",
    "num_neighbors = 1\n",
    "neighbors, non_edge_cells = get_cell_neighbors(cells, cells_in_x, cells_in_y, num_neighbors)"
   ]
  }
 ],
 "metadata": {
  "kernelspec": {
   "display_name": "Python 3.9.6 64-bit",
   "language": "python",
   "name": "python3"
  },
  "language_info": {
   "codemirror_mode": {
    "name": "ipython",
    "version": 3
   },
   "file_extension": ".py",
   "mimetype": "text/x-python",
   "name": "python",
   "nbconvert_exporter": "python",
   "pygments_lexer": "ipython3",
   "version": "3.9.6"
  },
  "orig_nbformat": 4,
  "vscode": {
   "interpreter": {
    "hash": "773605ce8f27446b9c69ae732168258e47ea10fbda5833a68cc76e4c6c0866c9"
   }
  }
 },
 "nbformat": 4,
 "nbformat_minor": 2
}
