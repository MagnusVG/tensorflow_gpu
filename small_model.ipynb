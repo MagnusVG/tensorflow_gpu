{
 "cells": [
  {
   "cell_type": "markdown",
   "metadata": {},
   "source": [
    "## GPU usage"
   ]
  },
  {
   "cell_type": "code",
   "execution_count": null,
   "metadata": {},
   "outputs": [],
   "source": [
    "import tensorflow as tf\n",
    "from tensorflow.python.client import device_lib\n",
    "import time\n",
    "from keras.datasets import mnist\n",
    "import numpy as np\n",
    "from keras.models import Sequential\n",
    "from keras.layers import Dense, Dropout, Flatten\n",
    "from keras.layers import Conv2D, MaxPooling2D, BatchNormalization\n",
    "from keras.optimizers import Adam\n",
    "import keras as k"
   ]
  },
  {
   "cell_type": "code",
   "execution_count": null,
   "metadata": {},
   "outputs": [],
   "source": [
    "print(tf.__version__)"
   ]
  },
  {
   "cell_type": "code",
   "execution_count": null,
   "metadata": {},
   "outputs": [],
   "source": [
    "print(\"Num GPUs Available: \", len(tf.config.list_physical_devices('GPU')))"
   ]
  },
  {
   "cell_type": "code",
   "execution_count": null,
   "metadata": {},
   "outputs": [],
   "source": [
    "tf.config.list_physical_devices()"
   ]
  },
  {
   "cell_type": "code",
   "execution_count": null,
   "metadata": {},
   "outputs": [],
   "source": [
    "print(device_lib.list_local_devices())"
   ]
  },
  {
   "cell_type": "code",
   "execution_count": null,
   "metadata": {},
   "outputs": [],
   "source": [
    "#data preprocessing\n",
    "(x_train, y_train), (x_test, y_test) = mnist.load_data()\n",
    "img_rows, img_cols = 28,28\n",
    "x_train = x_train.reshape(x_train.shape[0], img_rows, img_cols, 1)\n",
    "x_test = x_test.reshape(x_test.shape[0], img_rows, img_cols, 1)\n",
    "input_shape = (img_rows, img_cols, 1)\n",
    "x_test=x_test.astype('float32')\n",
    "x_train=x_train.astype('float32')\n",
    "mean=np.mean(x_train)\n",
    "std=np.std(x_train)\n",
    "x_test = (x_test-mean)/std\n",
    "x_train = (x_train-mean)/std\n",
    "\n",
    "print(\"counts of x_train : {}, y_train : {}, x_test : {}, y_test : {}\".format(\n",
    "    len(x_train), len(y_train), len(x_test), len(y_test)))"
   ]
  },
  {
   "cell_type": "code",
   "execution_count": null,
   "metadata": {},
   "outputs": [],
   "source": [
    "#labels\n",
    "num_classes=10\n",
    "y_train = k.utils.to_categorical(y_train, num_classes)\n",
    "y_test = k.utils.to_categorical(y_test, num_classes)\n",
    "print(\"counts of x_train : {}, y_train : {}, x_test : {}, y_test : {}\".format(\n",
    "    len(x_train), len(y_train), len(x_test), len(y_test)))"
   ]
  },
  {
   "cell_type": "code",
   "execution_count": null,
   "metadata": {},
   "outputs": [],
   "source": [
    "num_filter=16 # 32\n",
    "num_dense=256 # 512\n",
    "drop_dense=0.7\n",
    "ac='relu'\n",
    "learningrate=0.01\n",
    "\n",
    "def create_model():\n",
    "    model = Sequential()\n",
    "\n",
    "    model.add(Conv2D(num_filter, (3, 3), activation=ac, input_shape=(28, 28, 1),padding='same'))\n",
    "    model.add(BatchNormalization(axis=-1))\n",
    "    model.add(Conv2D(num_filter, (3, 3), activation=ac,padding='same'))\n",
    "    model.add(BatchNormalization(axis=-1))\n",
    "    model.add(MaxPooling2D(pool_size=(2, 2)))   # reduces to 14x14x32\n",
    "\n",
    "    model.add(Conv2D(2*num_filter, (3, 3), activation=ac,padding='same'))\n",
    "    model.add(BatchNormalization(axis=-1))\n",
    "    model.add(Conv2D(2*num_filter, (3, 3), activation=ac,padding='same'))\n",
    "    model.add(BatchNormalization(axis=-1))\n",
    "    model.add(MaxPooling2D(pool_size=(2, 2)))   # reduces to 7x7x64 = 3136 neurons\n",
    "\n",
    "    model.add(Flatten())                        \n",
    "    model.add(Dense(num_dense, activation=ac))\n",
    "    model.add(BatchNormalization())\n",
    "    model.add(Dropout(drop_dense))\n",
    "    model.add(Dense(10, activation='softmax'))\n",
    "\n",
    "    adm=Adam(lr=learningrate, beta_1=0.9, beta_2=0.999, epsilon=1e-08)\n",
    "    model.compile(loss='categorical_crossentropy', metrics=['accuracy'],optimizer=adm)\n",
    "\n",
    "    return model"
   ]
  },
  {
   "cell_type": "code",
   "execution_count": null,
   "metadata": {},
   "outputs": [],
   "source": [
    "batch_sizes = [256, 128, 64, 32, 16]"
   ]
  },
  {
   "cell_type": "code",
   "execution_count": null,
   "metadata": {},
   "outputs": [],
   "source": [
    "cpu_list=[]\n",
    "with tf.device(\"/cpu:0\"):\n",
    "    for batch_size in batch_sizes:\n",
    "        model = create_model()\n",
    "        print(\"batch size \"+str(batch_size))\n",
    "        t1 = time.time()\n",
    "        model.fit(x_train, y_train, batch_size=batch_size, epochs=1, validation_data=(x_test, y_test))\n",
    "        t2 = time.time()\n",
    "        cpu_list.append(int(t2-t1))\n",
    "\n",
    "print(\"cpu_list : \", cpu_list)"
   ]
  },
  {
   "cell_type": "code",
   "execution_count": null,
   "metadata": {},
   "outputs": [],
   "source": [
    "gpu_list=[]\n",
    "with tf.device(\"/gpu:0\"):\n",
    "    for batch_size in batch_sizes:\n",
    "        model = create_model()\n",
    "        print(\"batch size \"+str(batch_size))\n",
    "        t1 = time.time()\n",
    "        model.fit(x_train, y_train, batch_size=batch_size, epochs=1, validation_data=(x_test, y_test))\n",
    "        t2 = time.time()\n",
    "        gpu_list.append(int(t2-t1))\n",
    "\n",
    "print(\"gpu_list : \", gpu_list)"
   ]
  },
  {
   "cell_type": "code",
   "execution_count": null,
   "metadata": {},
   "outputs": [],
   "source": [
    "#cpu_list = [128, 142, 193, 234, 261]\n",
    "#gpu_list = [8, 12, 19, 33, 59]"
   ]
  },
  {
   "cell_type": "code",
   "execution_count": null,
   "metadata": {},
   "outputs": [],
   "source": [
    "import matplotlib.pyplot as plt"
   ]
  },
  {
   "cell_type": "code",
   "execution_count": null,
   "metadata": {},
   "outputs": [],
   "source": [
    "plt.plot(batch_sizes, cpu_list, label=\"cpu\")\n",
    "plt.plot(batch_sizes, gpu_list, label=\"gpu\")\n",
    "plt.xlabel(\"Batch sizes\")\n",
    "plt.ylabel(\"Time (s)\")\n",
    "plt.title(\"CPU vs GPU time usage\", fontsize=14)\n",
    "plt.legend()\n",
    "plt.show()"
   ]
  },
  {
   "cell_type": "markdown",
   "metadata": {},
   "source": [
    "## Imports"
   ]
  },
  {
   "cell_type": "code",
   "execution_count": 1,
   "metadata": {},
   "outputs": [
    {
     "name": "stdout",
     "output_type": "stream",
     "text": [
      "Jupyter environment detected. Enabling Open3D WebVisualizer.\n",
      "[Open3D INFO] WebRTC GUI backend enabled.\n",
      "[Open3D INFO] WebRTCWindowSystem: HTTP handshake server disabled.\n"
     ]
    }
   ],
   "source": [
    "import pandas as pd\n",
    "import numpy as np\n",
    "import open3d as o3d\n",
    "import tensorflow as tf\n",
    "from tensorflow import keras\n",
    "import matplotlib.pyplot as plt\n",
    "from sklearn.utils import class_weight\n",
    "\n",
    "from sklearn.model_selection import train_test_split\n",
    "from sklearn.metrics import recall_score, accuracy_score, confusion_matrix, f1_score\n",
    "\n",
    "from copy import deepcopy"
   ]
  },
  {
   "cell_type": "code",
   "execution_count": 2,
   "metadata": {},
   "outputs": [],
   "source": [
    "VAL_SPLIT = 0.1 # 10%\n",
    "TEST_SPLIT = 0.1 # 10%\n",
    "STATISTICS = [\"median\", \"std\", \"max\", \"min\"]\n",
    "CELL_SIZE = 0.5 # 0.5 meters\n",
    "Z_INDEX = 3"
   ]
  },
  {
   "cell_type": "markdown",
   "metadata": {},
   "source": [
    "## Read the data"
   ]
  },
  {
   "cell_type": "code",
   "execution_count": 3,
   "metadata": {},
   "outputs": [],
   "source": [
    "# Read data\n",
    "data = pd.read_csv(\"data/felt1_points.csv\")\n",
    "cols = data.columns.tolist()\n",
    "cols = cols[-1:] + cols[:-1]\n",
    "data = data[cols]"
   ]
  },
  {
   "cell_type": "code",
   "execution_count": 20,
   "metadata": {},
   "outputs": [
    {
     "data": {
      "text/html": [
       "<div>\n",
       "<style scoped>\n",
       "    .dataframe tbody tr th:only-of-type {\n",
       "        vertical-align: middle;\n",
       "    }\n",
       "\n",
       "    .dataframe tbody tr th {\n",
       "        vertical-align: top;\n",
       "    }\n",
       "\n",
       "    .dataframe thead th {\n",
       "        text-align: right;\n",
       "    }\n",
       "</style>\n",
       "<table border=\"1\" class=\"dataframe\">\n",
       "  <thead>\n",
       "    <tr style=\"text-align: right;\">\n",
       "      <th></th>\n",
       "      <th>accepted</th>\n",
       "      <th>x</th>\n",
       "      <th>y</th>\n",
       "      <th>z</th>\n",
       "      <th>thu</th>\n",
       "      <th>tvu</th>\n",
       "    </tr>\n",
       "  </thead>\n",
       "  <tbody>\n",
       "    <tr>\n",
       "      <th>0</th>\n",
       "      <td>1.0</td>\n",
       "      <td>0.00</td>\n",
       "      <td>9.21</td>\n",
       "      <td>19.53</td>\n",
       "      <td>0.09</td>\n",
       "      <td>0.12</td>\n",
       "    </tr>\n",
       "    <tr>\n",
       "      <th>1</th>\n",
       "      <td>1.0</td>\n",
       "      <td>0.00</td>\n",
       "      <td>9.22</td>\n",
       "      <td>19.48</td>\n",
       "      <td>0.08</td>\n",
       "      <td>0.12</td>\n",
       "    </tr>\n",
       "    <tr>\n",
       "      <th>2</th>\n",
       "      <td>1.0</td>\n",
       "      <td>0.00</td>\n",
       "      <td>9.53</td>\n",
       "      <td>19.52</td>\n",
       "      <td>0.09</td>\n",
       "      <td>0.12</td>\n",
       "    </tr>\n",
       "    <tr>\n",
       "      <th>3</th>\n",
       "      <td>1.0</td>\n",
       "      <td>0.01</td>\n",
       "      <td>9.43</td>\n",
       "      <td>19.51</td>\n",
       "      <td>0.07</td>\n",
       "      <td>0.12</td>\n",
       "    </tr>\n",
       "    <tr>\n",
       "      <th>4</th>\n",
       "      <td>1.0</td>\n",
       "      <td>0.02</td>\n",
       "      <td>9.41</td>\n",
       "      <td>19.48</td>\n",
       "      <td>0.08</td>\n",
       "      <td>0.12</td>\n",
       "    </tr>\n",
       "    <tr>\n",
       "      <th>5</th>\n",
       "      <td>1.0</td>\n",
       "      <td>0.03</td>\n",
       "      <td>9.58</td>\n",
       "      <td>19.50</td>\n",
       "      <td>0.08</td>\n",
       "      <td>0.12</td>\n",
       "    </tr>\n",
       "    <tr>\n",
       "      <th>6</th>\n",
       "      <td>1.0</td>\n",
       "      <td>0.03</td>\n",
       "      <td>9.61</td>\n",
       "      <td>19.59</td>\n",
       "      <td>0.08</td>\n",
       "      <td>0.12</td>\n",
       "    </tr>\n",
       "    <tr>\n",
       "      <th>7</th>\n",
       "      <td>1.0</td>\n",
       "      <td>0.04</td>\n",
       "      <td>9.19</td>\n",
       "      <td>19.45</td>\n",
       "      <td>0.08</td>\n",
       "      <td>0.12</td>\n",
       "    </tr>\n",
       "    <tr>\n",
       "      <th>8</th>\n",
       "      <td>1.0</td>\n",
       "      <td>0.04</td>\n",
       "      <td>9.73</td>\n",
       "      <td>19.53</td>\n",
       "      <td>0.08</td>\n",
       "      <td>0.12</td>\n",
       "    </tr>\n",
       "    <tr>\n",
       "      <th>9</th>\n",
       "      <td>1.0</td>\n",
       "      <td>0.04</td>\n",
       "      <td>9.78</td>\n",
       "      <td>19.55</td>\n",
       "      <td>0.09</td>\n",
       "      <td>0.12</td>\n",
       "    </tr>\n",
       "  </tbody>\n",
       "</table>\n",
       "</div>"
      ],
      "text/plain": [
       "   accepted     x     y      z   thu   tvu\n",
       "0       1.0  0.00  9.21  19.53  0.09  0.12\n",
       "1       1.0  0.00  9.22  19.48  0.08  0.12\n",
       "2       1.0  0.00  9.53  19.52  0.09  0.12\n",
       "3       1.0  0.01  9.43  19.51  0.07  0.12\n",
       "4       1.0  0.02  9.41  19.48  0.08  0.12\n",
       "5       1.0  0.03  9.58  19.50  0.08  0.12\n",
       "6       1.0  0.03  9.61  19.59  0.08  0.12\n",
       "7       1.0  0.04  9.19  19.45  0.08  0.12\n",
       "8       1.0  0.04  9.73  19.53  0.08  0.12\n",
       "9       1.0  0.04  9.78  19.55  0.09  0.12"
      ]
     },
     "execution_count": 20,
     "metadata": {},
     "output_type": "execute_result"
    }
   ],
   "source": [
    "data.head(10)"
   ]
  },
  {
   "cell_type": "markdown",
   "metadata": {},
   "source": [
    "## Select area"
   ]
  },
  {
   "cell_type": "code",
   "execution_count": 4,
   "metadata": {},
   "outputs": [],
   "source": [
    "def area_of_dataframe(dataframe, x_start, x_last, y_start, y_last):\n",
    "    area_dataframe = dataframe[\n",
    "        (dataframe[\"x\"] >= x_start) &\n",
    "        (dataframe[\"x\"] < x_last) & \n",
    "        (dataframe[\"y\"] >= y_start) & \n",
    "        (dataframe[\"y\"] < y_last)\n",
    "    ]\n",
    "    return area_dataframe"
   ]
  },
  {
   "cell_type": "code",
   "execution_count": 5,
   "metadata": {},
   "outputs": [
    {
     "data": {
      "text/plain": [
       "141619"
      ]
     },
     "execution_count": 5,
     "metadata": {},
     "output_type": "execute_result"
    }
   ],
   "source": [
    "# Pick an area\n",
    "xStart = np.min(data.x)+0 # Start meter x\n",
    "yStart = np.min(data.y)+0 # Start meter y\n",
    "area = 25\n",
    "data_area = area_of_dataframe(data, xStart, xStart+area, yStart, yStart+area)\n",
    "len(data_area)"
   ]
  },
  {
   "cell_type": "code",
   "execution_count": 6,
   "metadata": {},
   "outputs": [
    {
     "data": {
      "text/plain": [
       "0.14409086869764023"
      ]
     },
     "execution_count": 6,
     "metadata": {},
     "output_type": "execute_result"
    }
   ],
   "source": [
    "len(data_area[data_area.accepted == 0]) / len(data_area[data_area.accepted == 1])"
   ]
  },
  {
   "cell_type": "markdown",
   "metadata": {},
   "source": [
    "## Visualize"
   ]
  },
  {
   "cell_type": "code",
   "execution_count": 6,
   "metadata": {},
   "outputs": [],
   "source": [
    "def visualize_area(data_area, voxel_size=0.02):\n",
    "    _x = np.array(data_area.x)\n",
    "    _y = np.array(data_area.y)\n",
    "    _z = np.array(data_area.z)\n",
    "\n",
    "    _red = np.array(np.zeros(len(data_area.x)))\n",
    "    _green = np.array(np.zeros(len(data_area.x)))\n",
    "    _blue = np.array(np.zeros(len(data_area.x)))\n",
    "\n",
    "    acceptance = np.array(data_area.accepted)\n",
    "    for idx, val in enumerate(acceptance):\n",
    "        \n",
    "        if val > 0:\n",
    "            _green[idx] = 65535\n",
    "        else:\n",
    "            _red[idx] = 65535\n",
    "\n",
    "    pcd = o3d.geometry.PointCloud()\n",
    "\n",
    "    pcd.points = o3d.utility.Vector3dVector(np.vstack((_x, _y, _z)).transpose())\n",
    "    pcd.colors = o3d.utility.Vector3dVector(np.vstack((_red, _green, _blue)).transpose()/65535)\n",
    "\n",
    "    voxel_grid=o3d.geometry.VoxelGrid.create_from_point_cloud(pcd, voxel_size=voxel_size)\n",
    "\n",
    "    o3d.visualization.draw_geometries([voxel_grid])"
   ]
  },
  {
   "cell_type": "code",
   "execution_count": 8,
   "metadata": {},
   "outputs": [],
   "source": [
    "visualize_area(data_area, voxel_size=0.05)"
   ]
  },
  {
   "cell_type": "markdown",
   "metadata": {},
   "source": [
    "## Dataframe to normalized cells"
   ]
  },
  {
   "cell_type": "code",
   "execution_count": 9,
   "metadata": {},
   "outputs": [],
   "source": [
    "def cell_statistics(cell, z_index):\n",
    "    cell_z = cell[:, z_index]\n",
    "    median = np.median(cell_z)\n",
    "    std = np.std(cell_z)\n",
    "    mx = np.max(cell_z)\n",
    "    mn = np.min(cell_z)\n",
    "\n",
    "    return median, std, mx, mn"
   ]
  },
  {
   "cell_type": "code",
   "execution_count": 10,
   "metadata": {},
   "outputs": [],
   "source": [
    "def dataframe_to_normalized_stats_cells(dataframe, cells_in_x, cells_in_y, MinMaxArea, z_index):\n",
    "    cells = []\n",
    "    visualize_cell = []\n",
    "\n",
    "    sample_min = np.min(MinMaxArea, axis=0)\n",
    "    sample_max = np.max(MinMaxArea, axis=0)\n",
    "\n",
    "    for ix, x in enumerate(cells_in_x):\n",
    "        for iy, y in enumerate(cells_in_y):\n",
    "            if ix != 0 and iy != 0:\n",
    "                cell = np.array(area_of_dataframe(dataframe, cells_in_x[ix-1], x, cells_in_y[iy-1], y)) \n",
    "                visualize_cell.append(cell)            \n",
    "\n",
    "                if len(cell) <= 0:\n",
    "                    cells.append(cell)\n",
    "                else:\n",
    "                    # Normalize\n",
    "                    norm_cell = (cell - sample_min) / (sample_max - sample_min)\n",
    "                    \n",
    "                    # Add cell statistics\n",
    "                    median, std, mx, mn = cell_statistics(norm_cell, z_index)\n",
    "                    stats = np.array([[median, std, mx, mn] for i in range(len(norm_cell))])\n",
    "                    norm_cell_stats = np.append(norm_cell, stats, axis=1)\n",
    "\n",
    "                    cells.append(norm_cell_stats)\n",
    "    \n",
    "    return cells, visualize_cell"
   ]
  },
  {
   "cell_type": "code",
   "execution_count": 11,
   "metadata": {},
   "outputs": [],
   "source": [
    "# Turn area into cells\n",
    "cells_in_x = np.arange(data_area.x.min(), data_area.x.max()+CELL_SIZE, CELL_SIZE)\n",
    "cells_in_y = np.arange(data_area.y.min(), data_area.y.max()+CELL_SIZE, CELL_SIZE)\n",
    "cells, visualize_cells = dataframe_to_normalized_stats_cells(data_area, cells_in_x, cells_in_y, np.array(data), Z_INDEX)"
   ]
  },
  {
   "cell_type": "code",
   "execution_count": 12,
   "metadata": {},
   "outputs": [
    {
     "name": "stdout",
     "output_type": "stream",
     "text": [
      "1700\n",
      "1700\n"
     ]
    }
   ],
   "source": [
    "print(len(cells))\n",
    "print(len(visualize_cells))"
   ]
  },
  {
   "cell_type": "markdown",
   "metadata": {},
   "source": [
    "## Find cell neighbors"
   ]
  },
  {
   "cell_type": "code",
   "execution_count": 12,
   "metadata": {},
   "outputs": [],
   "source": [
    "def check_neighbor(all_stats, current_cell, len_stats):\n",
    "    if len(current_cell) <= 0:\n",
    "        return np.concatenate((all_stats, np.array([-1 for i in range(len_stats)])), axis=0)\n",
    "    else:\n",
    "        return np.concatenate((all_stats, current_cell[0, -len_stats:]), axis=0)"
   ]
  },
  {
   "cell_type": "code",
   "execution_count": 13,
   "metadata": {},
   "outputs": [],
   "source": [
    "def get_cell_neighbors(cells, cells_in_y, num_neighbors, len_stats, visualize_cells):\n",
    "    num_cells_in_y = len(cells_in_y)-1\n",
    "    neighbor_cells = []\n",
    "    neighor_visualize_cells = []\n",
    "\n",
    "    for cell_idx in range(len(cells)):\n",
    "        if len(cells[cell_idx]) <= 0:\n",
    "            continue\n",
    "\n",
    "        if cell_idx < num_cells_in_y*num_neighbors or cell_idx >= len(cells)-num_cells_in_y*num_neighbors:\n",
    "            continue # Continue on horizontal edges\n",
    "        if (cell_idx % num_cells_in_y) < num_neighbors or (cell_idx % num_cells_in_y) >= num_cells_in_y-num_neighbors:\n",
    "            continue # Continue on vertical edges\n",
    "\n",
    "        all_neighbor_stats = np.array([])\n",
    "        for nx in range(1, num_neighbors+1):\n",
    "            all_neighbor_stats = check_neighbor(all_neighbor_stats, cells[(cell_idx-(num_cells_in_y*nx))], len_stats) # Neighbors to the left\n",
    "            all_neighbor_stats = check_neighbor(all_neighbor_stats, cells[(cell_idx-nx)], len_stats) # Neighbors above\n",
    "            all_neighbor_stats = check_neighbor(all_neighbor_stats, cells[(cell_idx+nx)], len_stats) # Neighbors below\n",
    "            all_neighbor_stats = check_neighbor(all_neighbor_stats, cells[(cell_idx+(num_cells_in_y*nx))], len_stats) # Neighbors to the right\n",
    "            for ny in range(1, num_neighbors+1):\n",
    "                all_neighbor_stats = check_neighbor(all_neighbor_stats, cells[(cell_idx-((num_cells_in_y*nx)+ny))], len_stats) # Left corners\n",
    "                all_neighbor_stats = check_neighbor(all_neighbor_stats, cells[(cell_idx-((num_cells_in_y*nx)-ny))], len_stats) # Left corners\n",
    "                all_neighbor_stats = check_neighbor(all_neighbor_stats, cells[(cell_idx+((num_cells_in_y*nx)-ny))], len_stats) # Right corners\n",
    "                all_neighbor_stats = check_neighbor(all_neighbor_stats, cells[(cell_idx+((num_cells_in_y*nx)+ny))], len_stats) # Right corners\n",
    "\n",
    "        # Add stats to current cell\n",
    "        stats = np.array([all_neighbor_stats for i in range(len(cells[cell_idx]))]) # np.concatenate instead?\n",
    "        neighbor_cell_stats = np.append(cells[cell_idx], stats, axis=1)\n",
    "        neighbor_cells.append(neighbor_cell_stats)\n",
    "        neighor_visualize_cells.append(visualize_cells[cell_idx])\n",
    "\n",
    "    return neighbor_cells, neighor_visualize_cells"
   ]
  },
  {
   "cell_type": "code",
   "execution_count": 19,
   "metadata": {},
   "outputs": [
    {
     "ename": "AttributeError",
     "evalue": "'list' object has no attribute 'head'",
     "output_type": "error",
     "traceback": [
      "\u001b[1;31m---------------------------------------------------------------------------\u001b[0m",
      "\u001b[1;31mAttributeError\u001b[0m                            Traceback (most recent call last)",
      "\u001b[1;32m~\\AppData\\Local\\Temp/ipykernel_12816/3870676344.py\u001b[0m in \u001b[0;36m<module>\u001b[1;34m\u001b[0m\n\u001b[1;32m----> 1\u001b[1;33m \u001b[0mvisualize_cells\u001b[0m\u001b[1;33m.\u001b[0m\u001b[0mhead\u001b[0m\u001b[1;33m(\u001b[0m\u001b[1;36m5\u001b[0m\u001b[1;33m)\u001b[0m\u001b[1;33m\u001b[0m\u001b[1;33m\u001b[0m\u001b[0m\n\u001b[0m",
      "\u001b[1;31mAttributeError\u001b[0m: 'list' object has no attribute 'head'"
     ]
    }
   ],
   "source": [
    "visualize_cells.head(5)"
   ]
  },
  {
   "cell_type": "code",
   "execution_count": 14,
   "metadata": {},
   "outputs": [],
   "source": [
    "# Get neighbor cells for each cell\n",
    "num_neighbors = 0\n",
    "neighbors, neighbors_visualize = get_cell_neighbors(cells, cells_in_y, num_neighbors, len(STATISTICS), visualize_cells)\n",
    "processed_data = np.concatenate(neighbors)\n",
    "processed_data_visualize = np.concatenate(neighbors_visualize)"
   ]
  },
  {
   "cell_type": "code",
   "execution_count": 15,
   "metadata": {},
   "outputs": [
    {
     "name": "stdout",
     "output_type": "stream",
     "text": [
      "(141619, 10)\n",
      "(141619, 6)\n"
     ]
    }
   ],
   "source": [
    "print(processed_data.shape)\n",
    "print(processed_data_visualize.shape)"
   ]
  },
  {
   "cell_type": "markdown",
   "metadata": {},
   "source": [
    "## Get train, val and test"
   ]
  },
  {
   "cell_type": "code",
   "execution_count": 16,
   "metadata": {},
   "outputs": [],
   "source": [
    "X = processed_data[:, Z_INDEX:]\n",
    "y = processed_data[:, 0]\n",
    "\n",
    "X_visualize = processed_data_visualize[:, 1:4]\n",
    "y_visualize = processed_data_visualize[:, 0]"
   ]
  },
  {
   "cell_type": "code",
   "execution_count": 18,
   "metadata": {},
   "outputs": [],
   "source": [
    "X_train, X_test, y_train, y_test = train_test_split(X, y, test_size=TEST_SPLIT, random_state=1)\n",
    "_, X_test_visualize, _, y_test_visualize = train_test_split(X_visualize, y_visualize, test_size=TEST_SPLIT, random_state=1)"
   ]
  },
  {
   "cell_type": "code",
   "execution_count": 25,
   "metadata": {},
   "outputs": [],
   "source": [
    "combine = np.concatenate((X_test_visualize, y_test_visualize.reshape(len(y_test_visualize), 1)), axis=1)\n",
    "visualize_result = pd.DataFrame(combine, columns=[\"x\", \"y\", \"z\", \"accepted\"])"
   ]
  },
  {
   "cell_type": "code",
   "execution_count": 27,
   "metadata": {},
   "outputs": [],
   "source": [
    "visualize_area(visualize_result, voxel_size=0.07)"
   ]
  },
  {
   "cell_type": "markdown",
   "metadata": {},
   "source": [
    "## Weights"
   ]
  },
  {
   "cell_type": "code",
   "execution_count": 28,
   "metadata": {},
   "outputs": [
    {
     "data": {
      "text/plain": [
       "{0: 3.960013670539986, 1: 0.5722540497826946}"
      ]
     },
     "execution_count": 28,
     "metadata": {},
     "output_type": "execute_result"
    }
   ],
   "source": [
    "class_weights = class_weight.compute_class_weight('balanced', classes=np.unique(y_train), y=y_train)\n",
    "class_weight_dict = dict(enumerate(class_weights))\n",
    "class_weight_dict"
   ]
  },
  {
   "cell_type": "markdown",
   "metadata": {},
   "source": [
    "## Training and test evaluation "
   ]
  },
  {
   "cell_type": "code",
   "execution_count": 29,
   "metadata": {},
   "outputs": [],
   "source": [
    "def plot_result(history, item):\n",
    "    plt.plot(history.history[item], label=item)\n",
    "    plt.plot(history.history[\"val_\" + item], label=\"val_\" + item)\n",
    "    plt.xlabel(\"Epochs\")\n",
    "    plt.ylabel(item)\n",
    "    plt.title(\"Train and validation {} over epochs\".format(item), fontsize=14)\n",
    "    plt.legend()\n",
    "    plt.show()\n",
    "\n",
    "def evaluate_training(history):\n",
    "    plot_result(history, \"binary_accuracy\")\n",
    "    plot_result(history, \"loss\")\n",
    "\n",
    "def evaluate(y_test, y_pred):\n",
    "    confusion = confusion_matrix(y_test, y_pred)\n",
    "    f1 = f1_score(y_test, y_pred)\n",
    "    accuracy = accuracy_score(y_test, y_pred)\n",
    "    recall = recall_score(y_test, y_pred)\n",
    "    return confusion, f1, accuracy, recall\n",
    "\n",
    "def evaluate_testing(y_test, y_pred):\n",
    "    confusion, f1, accuracy, recall = evaluate(y_test, y_pred)\n",
    "    print(\"Confusion matrixes: \")\n",
    "    print(confusion)\n",
    "    print(\"\\n\")\n",
    "    print(\"F1 score: \" + str(np.round(np.mean(f1), 4)) + \"\\n\")\n",
    "    print(\"Accuracy score: \" + str(np.round(np.mean(accuracy), 4)) + \"\\n\")\n",
    "    print(\"Recall score: \" + str(np.round(np.mean(recall), 4)))"
   ]
  },
  {
   "cell_type": "markdown",
   "metadata": {},
   "source": [
    "## Own cell model\n",
    "- Small varied area -> 20m^2, batch_size=64\n",
    "- Not alot of parameters, simple model -> 1 hidden layer, size=[16]"
   ]
  },
  {
   "cell_type": "code",
   "execution_count": 30,
   "metadata": {},
   "outputs": [
    {
     "name": "stdout",
     "output_type": "stream",
     "text": [
      "Model: \"sequential\"\n",
      "_________________________________________________________________\n",
      " Layer (type)                Output Shape              Param #   \n",
      "=================================================================\n",
      " Hidden1 (Dense)             (None, 16)                128       \n",
      "                                                                 \n",
      " Output (Dense)              (None, 1)                 17        \n",
      "                                                                 \n",
      "=================================================================\n",
      "Total params: 145\n",
      "Trainable params: 145\n",
      "Non-trainable params: 0\n",
      "_________________________________________________________________\n"
     ]
    }
   ],
   "source": [
    "# Create model\n",
    "model = keras.Sequential()\n",
    "model.add(keras.layers.Input(shape=X_train[0].shape, name=\"Input\"))\n",
    "model.add(keras.layers.Dense(16, activation=\"relu\", name=\"Hidden1\"))\n",
    "model.add(keras.layers.Dense(1, activation=\"sigmoid\", name=\"Output\"))\n",
    "model.summary()\n",
    "\n",
    "opt = keras.optimizers.Adam(0.0001) # learning_rate=1e-6\n",
    "model.compile(\n",
    "    optimizer=opt,\n",
    "    loss=\"binary_crossentropy\",\n",
    "    metrics=[\"binary_accuracy\"]\n",
    ")\n",
    "\n",
    "es = keras.callbacks.EarlyStopping(monitor='loss', mode='min', verbose=1, min_delta=0.01, patience=10) # Prevent overfitting"
   ]
  },
  {
   "cell_type": "code",
   "execution_count": 31,
   "metadata": {},
   "outputs": [
    {
     "name": "stdout",
     "output_type": "stream",
     "text": [
      "Epoch 1/20\n",
      "1793/1793 [==============================] - 20s 7ms/step - loss: 0.6884 - binary_accuracy: 0.4513 - val_loss: 0.6950 - val_binary_accuracy: 0.6394\n",
      "Epoch 2/20\n",
      "1793/1793 [==============================] - 13s 7ms/step - loss: 0.6797 - binary_accuracy: 0.6686 - val_loss: 0.6836 - val_binary_accuracy: 0.6597\n",
      "Epoch 3/20\n",
      "1793/1793 [==============================] - 13s 8ms/step - loss: 0.6705 - binary_accuracy: 0.7266 - val_loss: 0.6750 - val_binary_accuracy: 0.7088\n",
      "Epoch 4/20\n",
      "1793/1793 [==============================] - 13s 7ms/step - loss: 0.6604 - binary_accuracy: 0.7813 - val_loss: 0.6572 - val_binary_accuracy: 0.7868\n",
      "Epoch 5/20\n",
      "1793/1793 [==============================] - 13s 7ms/step - loss: 0.6497 - binary_accuracy: 0.7959 - val_loss: 0.6409 - val_binary_accuracy: 0.8003\n",
      "Epoch 6/20\n",
      "1793/1793 [==============================] - 13s 8ms/step - loss: 0.6392 - binary_accuracy: 0.8031 - val_loss: 0.6338 - val_binary_accuracy: 0.8000\n",
      "Epoch 7/20\n",
      "1793/1793 [==============================] - 14s 8ms/step - loss: 0.6295 - binary_accuracy: 0.8067 - val_loss: 0.6350 - val_binary_accuracy: 0.7937\n",
      "Epoch 8/20\n",
      "1793/1793 [==============================] - 14s 8ms/step - loss: 0.6210 - binary_accuracy: 0.8073 - val_loss: 0.6074 - val_binary_accuracy: 0.8085\n",
      "Epoch 9/20\n",
      "1793/1793 [==============================] - 14s 8ms/step - loss: 0.6138 - binary_accuracy: 0.8105 - val_loss: 0.6117 - val_binary_accuracy: 0.8042\n",
      "Epoch 10/20\n",
      "1793/1793 [==============================] - 14s 8ms/step - loss: 0.6080 - binary_accuracy: 0.8096 - val_loss: 0.5891 - val_binary_accuracy: 0.8116\n",
      "Epoch 11/20\n",
      "1793/1793 [==============================] - 14s 8ms/step - loss: 0.6033 - binary_accuracy: 0.8108 - val_loss: 0.5914 - val_binary_accuracy: 0.8097\n",
      "Epoch 12/20\n",
      "1793/1793 [==============================] - 14s 8ms/step - loss: 0.5995 - binary_accuracy: 0.8101 - val_loss: 0.5850 - val_binary_accuracy: 0.8105\n",
      "Epoch 13/20\n",
      "1793/1793 [==============================] - 13s 8ms/step - loss: 0.5965 - binary_accuracy: 0.8108 - val_loss: 0.5805 - val_binary_accuracy: 0.8120\n",
      "Epoch 14/20\n",
      "1793/1793 [==============================] - 13s 8ms/step - loss: 0.5941 - binary_accuracy: 0.8113 - val_loss: 0.5906 - val_binary_accuracy: 0.8065\n",
      "Epoch 15/20\n",
      "1793/1793 [==============================] - 14s 8ms/step - loss: 0.5920 - binary_accuracy: 0.8098 - val_loss: 0.5734 - val_binary_accuracy: 0.8117\n",
      "Epoch 16/20\n",
      "1793/1793 [==============================] - 14s 8ms/step - loss: 0.5901 - binary_accuracy: 0.8100 - val_loss: 0.5885 - val_binary_accuracy: 0.8055\n",
      "Epoch 17/20\n",
      "1793/1793 [==============================] - 14s 8ms/step - loss: 0.5880 - binary_accuracy: 0.8093 - val_loss: 0.5937 - val_binary_accuracy: 0.8028\n",
      "Epoch 18/20\n",
      "1793/1793 [==============================] - 14s 8ms/step - loss: 0.5858 - binary_accuracy: 0.8078 - val_loss: 0.5786 - val_binary_accuracy: 0.8057\n",
      "Epoch 19/20\n",
      "1793/1793 [==============================] - 14s 8ms/step - loss: 0.5838 - binary_accuracy: 0.8071 - val_loss: 0.5871 - val_binary_accuracy: 0.8019\n",
      "Epoch 20/20\n",
      "1793/1793 [==============================] - 14s 8ms/step - loss: 0.5821 - binary_accuracy: 0.8065 - val_loss: 0.5801 - val_binary_accuracy: 0.8020\n"
     ]
    }
   ],
   "source": [
    "# Train the model\n",
    "history = model.fit(\n",
    "    X_train, \n",
    "    y_train, \n",
    "    validation_split=VAL_SPLIT,\n",
    "    class_weight=class_weight_dict,\n",
    "    batch_size=64, # Default\n",
    "    epochs=20,\n",
    "    callbacks=[es],\n",
    "    shuffle=True) # Default"
   ]
  },
  {
   "cell_type": "code",
   "execution_count": 32,
   "metadata": {},
   "outputs": [
    {
     "data": {
      "image/png": "[encoded data removed]",
      "text/plain": [
       "<Figure size 432x288 with 1 Axes>"
      ]
     },
     "metadata": {
      "needs_background": "light"
     },
     "output_type": "display_data"
    },
    {
     "data": {
      "image/png": "[encoded data removed]",
      "text/plain": [
       "<Figure size 432x288 with 1 Axes>"
      ]
     },
     "metadata": {
      "needs_background": "light"
     },
     "output_type": "display_data"
    },
    {
     "name": "stdout",
     "output_type": "stream",
     "text": [
      "443/443 [==============================] - 2s 4ms/step - loss: 0.5796 - binary_accuracy: 0.8070\n",
      "443/443 [==============================] - 1s 2ms/step\n",
      "Confusion matrixes: \n",
      "[[ 1005   738]\n",
      " [ 1995 10424]]\n",
      "\n",
      "\n",
      "F1 score: 0.8841\n",
      "\n",
      "Accuracy score: 0.807\n",
      "\n",
      "Recall score: 0.8394\n"
     ]
    }
   ],
   "source": [
    "# Training\n",
    "evaluate_training(history)\n",
    "\n",
    "# Testing\n",
    "test_loss, test_acc = model.evaluate(X_test, y_test)\n",
    "prediction = model.predict(X_test)\n",
    "evaluate_testing(y_test, prediction.round())"
   ]
  },
  {
   "cell_type": "code",
   "execution_count": 33,
   "metadata": {},
   "outputs": [],
   "source": [
    "combine = np.concatenate((X_test_visualize, prediction.round()), axis=1)\n",
    "visualize_result = pd.DataFrame(combine, columns=[\"x\", \"y\", \"z\", \"accepted\"])\n",
    "visualize_area(visualize_result)"
   ]
  },
  {
   "cell_type": "code",
   "execution_count": 34,
   "metadata": {},
   "outputs": [],
   "source": [
    "visualize_area(visualize_result, voxel_size=0.07)"
   ]
  },
  {
   "cell_type": "code",
   "execution_count": 36,
   "metadata": {},
   "outputs": [],
   "source": [
    "from sklearn.metrics import precision_recall_curve\n",
    "from numpy import argmax"
   ]
  },
  {
   "cell_type": "code",
   "execution_count": 37,
   "metadata": {},
   "outputs": [],
   "source": [
    "precision, recall, thresholds = precision_recall_curve(y_test, prediction)"
   ]
  },
  {
   "cell_type": "code",
   "execution_count": null,
   "metadata": {},
   "outputs": [],
   "source": [
    "# Using recall and precision at thresholds for optimal f2 scores\n",
    "fscore = (2 * precision * recall) / (precision + recall)\n",
    "ix = argmax(fscore)\n",
    "print('Best Threshold=%f, F-Score=%.3f' % (thresholds[ix], fscore[ix]))"
   ]
  },
  {
   "cell_type": "code",
   "execution_count": null,
   "metadata": {},
   "outputs": [],
   "source": [
    "alt_threshold_prediction = np.where(prediction > thresholds[ix], 1, 0)\n",
    "evaluate_testing(y_test, alt_threshold_prediction)"
   ]
  },
  {
   "cell_type": "code",
   "execution_count": 38,
   "metadata": {},
   "outputs": [
    {
     "data": {
      "image/png": "[encoded data removed]",
      "text/plain": [
       "<Figure size 432x288 with 1 Axes>"
      ]
     },
     "metadata": {
      "needs_background": "light"
     },
     "output_type": "display_data"
    }
   ],
   "source": [
    "# Using recall and precision at thresholds to find the middle ground for both\n",
    "plt.plot(thresholds, precision[0:-1], label=\"Precision\")\n",
    "plt.plot(thresholds, recall[0:-1], label=\"Recall\")\n",
    "plt.xlabel('Thresholds')\n",
    "plt.ylabel('Score')\n",
    "plt.legend()\n",
    "plt.title(\"Precision and recall at thresholds\", fontsize=14)\n",
    "plt.show()"
   ]
  },
  {
   "cell_type": "code",
   "execution_count": null,
   "metadata": {},
   "outputs": [],
   "source": [
    "# Visualize data\n",
    "alt_threshold_prediction = np.where(prediction > 0.35, 1, 0)\n",
    "evaluate_testing(y_test, alt_threshold_prediction)\n",
    "combine = np.concatenate((X_vis, alt_threshold_prediction), axis=1)\n",
    "visualize_result = pd.DataFrame(combine, columns=[\"x\", \"y\", \"z\", \"accepted\"])"
   ]
  },
  {
   "cell_type": "code",
   "execution_count": null,
   "metadata": {},
   "outputs": [],
   "source": [
    "# Visualize\n",
    "visualize_area(visualize_result, voxel_size=0.002)"
   ]
  },
  {
   "cell_type": "code",
   "execution_count": null,
   "metadata": {},
   "outputs": [],
   "source": [
    "# Should have\n",
    "res_y = y_test.reshape((len(y_test), 1))\n",
    "combine = np.concatenate((X_vis, res_y), axis=1)\n",
    "visualize_result = pd.DataFrame(combine, columns=[\"x\", \"y\", \"z\", \"accepted\"])\n",
    "visualize_area(visualize_result, voxel_size=0.05)"
   ]
  },
  {
   "cell_type": "code",
   "execution_count": null,
   "metadata": {},
   "outputs": [],
   "source": [
    "visualize_area(data_area)"
   ]
  },
  {
   "cell_type": "markdown",
   "metadata": {},
   "source": [
    "## Neighbor cells\n",
    "- 2 neighbors, 1m around each point\n",
    "- Add a couple of meters to the data to compansate for neighbors -> 22m^2, batch_size=64\n",
    "- More complex, hence another layer -> 2 layers, size=[128, 64]"
   ]
  },
  {
   "cell_type": "code",
   "execution_count": 50,
   "metadata": {},
   "outputs": [
    {
     "name": "stdout",
     "output_type": "stream",
     "text": [
      "Model: \"sequential_2\"\n",
      "_________________________________________________________________\n",
      " Layer (type)                Output Shape              Param #   \n",
      "=================================================================\n",
      " Hidden1 (Dense)             (None, 256)               83968     \n",
      "                                                                 \n",
      " Hidden2 (Dense)             (None, 128)               32896     \n",
      "                                                                 \n",
      " Hidden3 (Dense)             (None, 64)                8256      \n",
      "                                                                 \n",
      " Output (Dense)              (None, 1)                 65        \n",
      "                                                                 \n",
      "=================================================================\n",
      "Total params: 125,185\n",
      "Trainable params: 125,185\n",
      "Non-trainable params: 0\n",
      "_________________________________________________________________\n"
     ]
    }
   ],
   "source": [
    "num_neighbors = 4\n",
    "neighbors, neighbors_visualize = get_cell_neighbors(cells, cells_in_y, num_neighbors, len(STATISTICS), visualize_cells)\n",
    "processed_data = np.concatenate(neighbors)\n",
    "processed_data_visualize = np.concatenate(neighbors_visualize)\n",
    "\n",
    "X = processed_data[:, Z_INDEX:]\n",
    "y = processed_data[:, 0]\n",
    "X_visualize = processed_data_visualize[:, 1:4]\n",
    "y_visualize = processed_data_visualize[:, 0]\n",
    "\n",
    "X_train2, X_test2, y_train2, y_test2 = train_test_split(X, y, test_size=TEST_SPLIT, random_state=1)\n",
    "_, X_test_visualize2, _, _ = train_test_split(X_visualize, y_visualize, test_size=TEST_SPLIT, random_state=1)\n",
    "\n",
    "class_weights = class_weight.compute_class_weight('balanced', classes=np.unique(y_train2), y=y_train2)\n",
    "class_weight_dict = dict(enumerate(class_weights))\n",
    "\n",
    "\n",
    "# Create model\n",
    "model = keras.Sequential()\n",
    "model.add(keras.layers.Input(shape=X_train2[0].shape, name=\"Input\"))\n",
    "model.add(keras.layers.Dense(256, activation=\"relu\", name=\"Hidden1\"))\n",
    "model.add(keras.layers.Dense(128, activation=\"relu\", name=\"Hidden2\"))\n",
    "model.add(keras.layers.Dense(64, activation=\"relu\", name=\"Hidden3\"))\n",
    "model.add(keras.layers.Dense(1, activation=\"sigmoid\", name=\"Output\"))\n",
    "model.summary()\n",
    "\n",
    "opt = keras.optimizers.Adam(0.000001) # learning_rate=1e-6\n",
    "model.compile(\n",
    "    optimizer=opt,\n",
    "    loss=\"binary_crossentropy\",\n",
    "    metrics=[\"binary_accuracy\"]\n",
    ")\n",
    "\n",
    "es = keras.callbacks.EarlyStopping(monitor='loss', mode='min', verbose=1, min_delta=0.01, patience=10) # Prevent overfitting"
   ]
  },
  {
   "cell_type": "code",
   "execution_count": 51,
   "metadata": {},
   "outputs": [
    {
     "name": "stdout",
     "output_type": "stream",
     "text": [
      "Epoch 1/20\n",
      "1188/1188 [==============================] - 10s 8ms/step - loss: 0.6843 - binary_accuracy: 0.1536 - val_loss: 0.7168 - val_binary_accuracy: 0.1620\n",
      "Epoch 2/20\n",
      "1188/1188 [==============================] - 9s 8ms/step - loss: 0.6719 - binary_accuracy: 0.3669 - val_loss: 0.6952 - val_binary_accuracy: 0.6249\n",
      "Epoch 3/20\n",
      "1188/1188 [==============================] - 10s 8ms/step - loss: 0.6625 - binary_accuracy: 0.6407 - val_loss: 0.6868 - val_binary_accuracy: 0.6732\n",
      "Epoch 4/20\n",
      "1188/1188 [==============================] - 10s 8ms/step - loss: 0.6550 - binary_accuracy: 0.6802 - val_loss: 0.6801 - val_binary_accuracy: 0.6918\n",
      "Epoch 5/20\n",
      "1188/1188 [==============================] - 10s 8ms/step - loss: 0.6482 - binary_accuracy: 0.6968 - val_loss: 0.6715 - val_binary_accuracy: 0.7044\n",
      "Epoch 6/20\n",
      "1188/1188 [==============================] - 10s 8ms/step - loss: 0.6421 - binary_accuracy: 0.7109 - val_loss: 0.6755 - val_binary_accuracy: 0.6996\n",
      "Epoch 7/20\n",
      "1188/1188 [==============================] - 10s 8ms/step - loss: 0.6361 - binary_accuracy: 0.7109 - val_loss: 0.6610 - val_binary_accuracy: 0.7162\n",
      "Epoch 8/20\n",
      "1188/1188 [==============================] - 10s 8ms/step - loss: 0.6304 - binary_accuracy: 0.7202 - val_loss: 0.6540 - val_binary_accuracy: 0.7234\n",
      "Epoch 9/20\n",
      "1188/1188 [==============================] - 10s 8ms/step - loss: 0.6254 - binary_accuracy: 0.7247 - val_loss: 0.6490 - val_binary_accuracy: 0.7261\n",
      "Epoch 10/20\n",
      "1188/1188 [==============================] - 10s 9ms/step - loss: 0.6197 - binary_accuracy: 0.7296 - val_loss: 0.6500 - val_binary_accuracy: 0.7239\n",
      "Epoch 11/20\n",
      "1188/1188 [==============================] - 10s 9ms/step - loss: 0.6148 - binary_accuracy: 0.7297 - val_loss: 0.6373 - val_binary_accuracy: 0.7299\n",
      "Epoch 12/20\n",
      "1188/1188 [==============================] - 10s 8ms/step - loss: 0.6118 - binary_accuracy: 0.7323 - val_loss: 0.6301 - val_binary_accuracy: 0.7332\n",
      "Epoch 13/20\n",
      "1188/1188 [==============================] - 10s 9ms/step - loss: 0.6093 - binary_accuracy: 0.7342 - val_loss: 0.6250 - val_binary_accuracy: 0.7369\n",
      "Epoch 14/20\n",
      "1188/1188 [==============================] - 10s 9ms/step - loss: 0.6074 - binary_accuracy: 0.7366 - val_loss: 0.6355 - val_binary_accuracy: 0.7288\n",
      "Epoch 15/20\n",
      "1188/1188 [==============================] - 10s 9ms/step - loss: 0.6059 - binary_accuracy: 0.7346 - val_loss: 0.6231 - val_binary_accuracy: 0.7364\n",
      "Epoch 16/20\n",
      "1188/1188 [==============================] - 11s 9ms/step - loss: 0.6047 - binary_accuracy: 0.7378 - val_loss: 0.6287 - val_binary_accuracy: 0.7330\n",
      "Epoch 17/20\n",
      "1188/1188 [==============================] - 10s 8ms/step - loss: 0.6037 - binary_accuracy: 0.7362 - val_loss: 0.6126 - val_binary_accuracy: 0.7428\n",
      "Epoch 18/20\n",
      "1188/1188 [==============================] - 10s 8ms/step - loss: 0.6030 - binary_accuracy: 0.7405 - val_loss: 0.6215 - val_binary_accuracy: 0.7384\n",
      "Epoch 19/20\n",
      "1188/1188 [==============================] - 10s 8ms/step - loss: 0.6023 - binary_accuracy: 0.7402 - val_loss: 0.6210 - val_binary_accuracy: 0.7394\n",
      "Epoch 20/20\n",
      "1188/1188 [==============================] - 10s 8ms/step - loss: 0.6016 - binary_accuracy: 0.7411 - val_loss: 0.6198 - val_binary_accuracy: 0.7388\n"
     ]
    }
   ],
   "source": [
    "# Train the model\n",
    "history2 = model.fit(\n",
    "    X_train2, \n",
    "    y_train2, \n",
    "    validation_split=VAL_SPLIT, \n",
    "    class_weight=class_weight_dict,\n",
    "    batch_size=64, # Default\n",
    "    epochs=20,\n",
    "    callbacks=[es],\n",
    "    shuffle=True) # Default"
   ]
  },
  {
   "cell_type": "code",
   "execution_count": 48,
   "metadata": {},
   "outputs": [
    {
     "data": {
      "image/png": "[encoded data removed]",
      "text/plain": [
       "<Figure size 432x288 with 1 Axes>"
      ]
     },
     "metadata": {
      "needs_background": "light"
     },
     "output_type": "display_data"
    },
    {
     "data": {
      "image/png": "[encoded data removed]",
      "text/plain": [
       "<Figure size 432x288 with 1 Axes>"
      ]
     },
     "metadata": {
      "needs_background": "light"
     },
     "output_type": "display_data"
    },
    {
     "name": "stdout",
     "output_type": "stream",
     "text": [
      "371/371 [==============================] - 2s 4ms/step - loss: 0.6551 - binary_accuracy: 0.7731\n",
      "371/371 [==============================] - 1s 2ms/step\n",
      "Confusion matrixes: \n",
      "[[1013  610]\n",
      " [2081 8156]]\n",
      "\n",
      "\n",
      "F1 score: 0.8584\n",
      "\n",
      "Accuracy score: 0.7731\n",
      "\n",
      "Recall score: 0.7967\n"
     ]
    }
   ],
   "source": [
    "# Training\n",
    "evaluate_training(history2)\n",
    "\n",
    "# Testing\n",
    "test_loss, test_acc = model.evaluate(X_test2, y_test2)\n",
    "prediction = model.predict(X_test2)\n",
    "evaluate_testing(y_test2, prediction.round())"
   ]
  },
  {
   "cell_type": "code",
   "execution_count": 52,
   "metadata": {},
   "outputs": [
    {
     "ename": "ValueError",
     "evalue": "all the input array dimensions for the concatenation axis must match exactly, but along dimension 0, the array at index 0 has size 9383 and the array at index 1 has size 11860",
     "output_type": "error",
     "traceback": [
      "\u001b[1;31m---------------------------------------------------------------------------\u001b[0m",
      "\u001b[1;31mValueError\u001b[0m                                Traceback (most recent call last)",
      "\u001b[1;32m~\\AppData\\Local\\Temp/ipykernel_12816/3592001831.py\u001b[0m in \u001b[0;36m<module>\u001b[1;34m\u001b[0m\n\u001b[1;32m----> 1\u001b[1;33m \u001b[0mcombine\u001b[0m \u001b[1;33m=\u001b[0m \u001b[0mnp\u001b[0m\u001b[1;33m.\u001b[0m\u001b[0mconcatenate\u001b[0m\u001b[1;33m(\u001b[0m\u001b[1;33m(\u001b[0m\u001b[0mX_test_visualize2\u001b[0m\u001b[1;33m,\u001b[0m \u001b[0mprediction\u001b[0m\u001b[1;33m.\u001b[0m\u001b[0mround\u001b[0m\u001b[1;33m(\u001b[0m\u001b[1;33m)\u001b[0m\u001b[1;33m)\u001b[0m\u001b[1;33m,\u001b[0m \u001b[0maxis\u001b[0m\u001b[1;33m=\u001b[0m\u001b[1;36m1\u001b[0m\u001b[1;33m)\u001b[0m\u001b[1;33m\u001b[0m\u001b[1;33m\u001b[0m\u001b[0m\n\u001b[0m\u001b[0;32m      2\u001b[0m \u001b[0mvisualize_result\u001b[0m \u001b[1;33m=\u001b[0m \u001b[0mpd\u001b[0m\u001b[1;33m.\u001b[0m\u001b[0mDataFrame\u001b[0m\u001b[1;33m(\u001b[0m\u001b[0mcombine\u001b[0m\u001b[1;33m,\u001b[0m \u001b[0mcolumns\u001b[0m\u001b[1;33m=\u001b[0m\u001b[1;33m[\u001b[0m\u001b[1;34m\"x\"\u001b[0m\u001b[1;33m,\u001b[0m \u001b[1;34m\"y\"\u001b[0m\u001b[1;33m,\u001b[0m \u001b[1;34m\"z\"\u001b[0m\u001b[1;33m,\u001b[0m \u001b[1;34m\"accepted\"\u001b[0m\u001b[1;33m]\u001b[0m\u001b[1;33m)\u001b[0m\u001b[1;33m\u001b[0m\u001b[1;33m\u001b[0m\u001b[0m\n\u001b[0;32m      3\u001b[0m \u001b[0mvisualize_area\u001b[0m\u001b[1;33m(\u001b[0m\u001b[0mvisualize_result\u001b[0m\u001b[1;33m)\u001b[0m\u001b[1;33m\u001b[0m\u001b[1;33m\u001b[0m\u001b[0m\n",
      "\u001b[1;32m<__array_function__ internals>\u001b[0m in \u001b[0;36mconcatenate\u001b[1;34m(*args, **kwargs)\u001b[0m\n",
      "\u001b[1;31mValueError\u001b[0m: all the input array dimensions for the concatenation axis must match exactly, but along dimension 0, the array at index 0 has size 9383 and the array at index 1 has size 11860"
     ]
    }
   ],
   "source": [
    "combine = np.concatenate((X_test_visualize2, prediction.round()), axis=1)\n",
    "visualize_result = pd.DataFrame(combine, columns=[\"x\", \"y\", \"z\", \"accepted\"])\n",
    "visualize_area(visualize_result)"
   ]
  },
  {
   "cell_type": "code",
   "execution_count": 54,
   "metadata": {},
   "outputs": [
    {
     "name": "stdout",
     "output_type": "stream",
     "text": [
      "(9383, 327)\n",
      "(14162, 3)\n"
     ]
    }
   ],
   "source": [
    "print(X_test2.shape)\n",
    "print(X_test_visualize.shape)"
   ]
  },
  {
   "cell_type": "code",
   "execution_count": null,
   "metadata": {},
   "outputs": [],
   "source": [
    "precision, recall, thresholds = precision_recall_curve(y_test, prediction)\n",
    "\n",
    "# Using recall and precision at thresholds for optimal f2 scores\n",
    "fscore = (2 * precision * recall) / (precision + recall)\n",
    "ix = argmax(fscore)\n",
    "print('Best Threshold=%f, F-Score=%.3f' % (thresholds[ix], fscore[ix]))\n",
    "\n",
    "# Re-evaluate\n",
    "alt_threshold_prediction = np.where(prediction > thresholds[ix], 1, 0)\n",
    "evaluate_testing(y_test, alt_threshold_prediction)"
   ]
  },
  {
   "cell_type": "code",
   "execution_count": null,
   "metadata": {},
   "outputs": [],
   "source": [
    "# Using recall and precision at thresholds to find the middle ground for both\n",
    "plt.plot(thresholds, precision[0:-1], label=\"Precision\")\n",
    "plt.plot(thresholds, recall[0:-1], label=\"Recall\")\n",
    "plt.xlabel('Thresholds')\n",
    "plt.ylabel('Score')\n",
    "plt.legend()\n",
    "plt.title(\"Precision and recall at thresholds\", fontsize=14)\n",
    "plt.show()"
   ]
  },
  {
   "cell_type": "code",
   "execution_count": null,
   "metadata": {},
   "outputs": [],
   "source": [
    "# Visualize data\n",
    "alt_threshold_prediction = np.where(prediction > 0.5, 1, 0)\n",
    "combine = np.concatenate((X_vis2, alt_threshold_prediction), axis=1)\n",
    "visualize_result = pd.DataFrame(combine, columns=[\"x\", \"y\", \"z\", \"accepted\"])\n",
    "visualize_area(visualize_result, voxel_size=0.01)"
   ]
  },
  {
   "cell_type": "code",
   "execution_count": null,
   "metadata": {},
   "outputs": [],
   "source": [
    "visualize_area(data_area)"
   ]
  },
  {
   "cell_type": "markdown",
   "metadata": {},
   "source": [
    "# Increase data"
   ]
  },
  {
   "cell_type": "code",
   "execution_count": null,
   "metadata": {},
   "outputs": [],
   "source": [
    "xStart = np.min(data.x)+0 # Start meter x\n",
    "yStart = np.min(data.y)+0 # Start meter y\n",
    "area = 35\n",
    "data_area = area_of_dataframe(data, xStart, xStart+area, yStart, yStart+area)\n",
    "\n",
    "cells_in_x = np.arange(data_area.x.min(), data_area.x.max()+CELL_SIZE, CELL_SIZE)\n",
    "cells_in_y = np.arange(data_area.y.min(), data_area.y.max()+CELL_SIZE, CELL_SIZE)\n",
    "cells = dataframe_to_normalized_stats_cells(data_area, cells_in_x, cells_in_y, np.array(data), Z_INDEX)"
   ]
  },
  {
   "cell_type": "markdown",
   "metadata": {},
   "source": [
    "## Own cell"
   ]
  },
  {
   "cell_type": "code",
   "execution_count": null,
   "metadata": {},
   "outputs": [],
   "source": [
    "num_neighbors = 0\n",
    "neighbors = get_cell_neighbors(cells, cells_in_y, num_neighbors, len(STATISTICS))\n",
    "processed_data = np.concatenate(neighbors)\n",
    "\n",
    "X = processed_data[:, Z_INDEX:]\n",
    "y = processed_data[:, 0]\n",
    "\n",
    "X_train, X_test, y_train, y_test = train_test_split(X, y, test_size=TEST_SPLIT)\n",
    "class_weights = class_weight.compute_class_weight('balanced', classes=np.unique(y_train), y=y_train)\n",
    "class_weight_dict = dict(enumerate(class_weights))\n",
    "\n",
    "# Create model\n",
    "model = keras.Sequential()\n",
    "model.add(keras.layers.Input(shape=X_train[0].shape, name=\"Input\"))\n",
    "model.add(keras.layers.Dense(16, activation=\"relu\", name=\"Hidden1\"))\n",
    "model.add(keras.layers.Dense(1, activation=\"sigmoid\", name=\"Output\"))\n",
    "model.summary()\n",
    "\n",
    "opt = keras.optimizers.Adam(0.0001) # learning_rate=1e-6\n",
    "model.compile(\n",
    "    optimizer=opt,\n",
    "    loss=\"binary_crossentropy\",\n",
    "    metrics=[\"binary_accuracy\"]\n",
    ")\n",
    "\n",
    "es = keras.callbacks.EarlyStopping(monitor='loss', mode='min', verbose=1, min_delta=0.01, patience=10) # Prevent overfitting"
   ]
  },
  {
   "cell_type": "code",
   "execution_count": null,
   "metadata": {},
   "outputs": [],
   "source": [
    "# Train the model\n",
    "history = model.fit(\n",
    "    X_train, \n",
    "    y_train, \n",
    "    validation_split=VAL_SPLIT, \n",
    "    class_weight=class_weight_dict,\n",
    "    batch_size=64, # Default\n",
    "    epochs=20,\n",
    "    callbacks=[es],\n",
    "    shuffle=True) # Default"
   ]
  },
  {
   "cell_type": "code",
   "execution_count": null,
   "metadata": {},
   "outputs": [],
   "source": [
    "# Training\n",
    "evaluate_training(history)\n",
    "\n",
    "# Testing\n",
    "test_loss, test_acc = model.evaluate(X_test, y_test)\n",
    "prediction = model.predict(X_test)\n",
    "evaluate_testing(y_test, prediction.round())"
   ]
  },
  {
   "cell_type": "markdown",
   "metadata": {},
   "source": [
    "## Neighbors"
   ]
  },
  {
   "cell_type": "code",
   "execution_count": null,
   "metadata": {},
   "outputs": [],
   "source": [
    "num_neighbors = 2\n",
    "neighbors = get_cell_neighbors(cells, cells_in_y, num_neighbors, len(STATISTICS))\n",
    "processed_data = np.concatenate(neighbors)\n",
    "\n",
    "X = processed_data[:, Z_INDEX:]\n",
    "y = processed_data[:, 0]\n",
    "\n",
    "X_train, X_test, y_train, y_test = train_test_split(X, y, test_size=TEST_SPLIT)\n",
    "class_weights = class_weight.compute_class_weight('balanced', classes=np.unique(y_train), y=y_train)\n",
    "class_weight_dict = dict(enumerate(class_weights))\n",
    "\n",
    "# Create model\n",
    "model = keras.Sequential()\n",
    "model.add(keras.layers.Input(shape=X_train[0].shape, name=\"Input\"))\n",
    "model.add(keras.layers.Dense(128, activation=\"relu\", name=\"Hidden1\"))\n",
    "model.add(keras.layers.Dense(64, activation=\"relu\", name=\"Hidden2\"))\n",
    "model.add(keras.layers.Dense(1, activation=\"sigmoid\", name=\"Output\"))\n",
    "model.summary()\n",
    "\n",
    "opt = keras.optimizers.Adam(0.000001) # learning_rate=1e-6\n",
    "model.compile(\n",
    "    optimizer=opt,\n",
    "    loss=\"binary_crossentropy\",\n",
    "    metrics=[\"binary_accuracy\"]\n",
    ")\n",
    "\n",
    "es = keras.callbacks.EarlyStopping(monitor='loss', mode='min', verbose=1, min_delta=0.01, patience=10) # Prevent overfitting"
   ]
  },
  {
   "cell_type": "code",
   "execution_count": null,
   "metadata": {},
   "outputs": [],
   "source": [
    "# Train the model\n",
    "history = model.fit(\n",
    "    X_train, \n",
    "    y_train, \n",
    "    validation_split=VAL_SPLIT, \n",
    "    class_weight=class_weight_dict,\n",
    "    batch_size=64, # Default\n",
    "    epochs=20,\n",
    "    callbacks=[es],\n",
    "    shuffle=True) # Default"
   ]
  },
  {
   "cell_type": "code",
   "execution_count": null,
   "metadata": {},
   "outputs": [],
   "source": [
    "# Training\n",
    "evaluate_training(history)\n",
    "\n",
    "# Testing\n",
    "test_loss, test_acc = model.evaluate(X_test, y_test)\n",
    "prediction = model.predict(X_test)\n",
    "evaluate_testing(y_test, prediction.round())"
   ]
  },
  {
   "cell_type": "markdown",
   "metadata": {},
   "source": [
    "## Sampling"
   ]
  },
  {
   "cell_type": "code",
   "execution_count": null,
   "metadata": {},
   "outputs": [],
   "source": [
    "from imblearn.combine import SMOTEENN\n",
    "\n",
    "sampling = SMOTEENN(sampling_strategy=0.1)\n",
    "X_train_us, y_train_us = sampling.fit_resample(X_train, y_train)\n",
    "\n",
    "class_weights = class_weight.compute_class_weight('balanced', classes=np.unique(y_train_us), y=y_train_us)\n",
    "class_weight_dict = dict(enumerate(class_weights))\n",
    "class_weight_dict"
   ]
  },
  {
   "cell_type": "code",
   "execution_count": null,
   "metadata": {},
   "outputs": [],
   "source": [
    "# Create model\n",
    "model = keras.Sequential()\n",
    "model.add(keras.layers.Input(shape=X_train[0].shape, name=\"Input\"))\n",
    "model.add(keras.layers.Dense(128, activation=\"relu\", name=\"Hidden1\"))\n",
    "model.add(keras.layers.Dense(64, activation=\"relu\", name=\"Hidden2\"))\n",
    "model.add(keras.layers.Dense(1, activation=\"sigmoid\", name=\"Output\"))\n",
    "model.summary()\n",
    "\n",
    "opt = keras.optimizers.Adam(learning_rate=0.000001) # learning_rate=1e-6\n",
    "model.compile(\n",
    "    optimizer=opt,\n",
    "    loss=\"binary_crossentropy\",\n",
    "    metrics=[\"binary_accuracy\"]\n",
    ")\n",
    "\n",
    "es = keras.callbacks.EarlyStopping(monitor='loss', mode='min', verbose=1, min_delta=0.01, patience=10) # Prevent overfitting"
   ]
  },
  {
   "cell_type": "code",
   "execution_count": null,
   "metadata": {},
   "outputs": [],
   "source": [
    "# Train the model\n",
    "history = model.fit(\n",
    "    X_train_us, \n",
    "    y_train_us, \n",
    "    validation_split=VAL_SPLIT, \n",
    "    class_weight=class_weight_dict,\n",
    "    batch_size=64, # Default\n",
    "    epochs=20,\n",
    "    callbacks=[es],\n",
    "    shuffle=True) # Default"
   ]
  },
  {
   "cell_type": "code",
   "execution_count": null,
   "metadata": {},
   "outputs": [],
   "source": [
    "# Training\n",
    "evaluate_training(history)\n",
    "\n",
    "# Testing\n",
    "test_loss, test_acc = model.evaluate(X_test, y_test)\n",
    "prediction = model.predict(X_test)\n",
    "evaluate_testing(y_test, prediction.round())"
   ]
  },
  {
   "cell_type": "code",
   "execution_count": null,
   "metadata": {},
   "outputs": [],
   "source": [
    "# Create model\n",
    "SHAPE = (1, 200)\n",
    "\n",
    "model = keras.Sequential()\n",
    "model.add(keras.layers.Input(shape=SHAPE, name=\"Input\"))\n",
    "model.add(keras.layers.Dense(512, activation=\"relu\", name=\"Hidden1\"))\n",
    "model.add(keras.layers.Dense(1024, activation=\"relu\", name=\"Hidden2\"))\n",
    "model.add(keras.layers.Dense(512, activation=\"relu\", name=\"Hidden3\"))\n",
    "model.add(keras.layers.Dense(256, activation=\"relu\", name=\"Hidden4\"))\n",
    "model.add(keras.layers.Dense(128, activation=\"relu\", name=\"Hidden5\"))\n",
    "model.add(keras.layers.Dense(1, activation=\"sigmoid\", name=\"Output\"))\n",
    "model.summary()"
   ]
  },
  {
   "cell_type": "markdown",
   "metadata": {},
   "source": [
    "## Small cross validation sample"
   ]
  },
  {
   "cell_type": "code",
   "execution_count": null,
   "metadata": {},
   "outputs": [],
   "source": []
  },
  {
   "cell_type": "markdown",
   "metadata": {},
   "source": [
    "## Small sample\n",
    "- Underfit\n",
    "- Overfit\n",
    "- Perfect"
   ]
  },
  {
   "cell_type": "code",
   "execution_count": null,
   "metadata": {},
   "outputs": [],
   "source": []
  }
 ],
 "metadata": {
  "kernelspec": {
   "display_name": "Python 3.9.6 64-bit",
   "language": "python",
   "name": "python3"
  },
  "language_info": {
   "codemirror_mode": {
    "name": "ipython",
    "version": 3
   },
   "file_extension": ".py",
   "mimetype": "text/x-python",
   "name": "python",
   "nbconvert_exporter": "python",
   "pygments_lexer": "ipython3",
   "version": "3.9.6"
  },
  "orig_nbformat": 4,
  "vscode": {
   "interpreter": {
    "hash": "773605ce8f27446b9c69ae732168258e47ea10fbda5833a68cc76e4c6c0866c9"
   }
  }
 },
 "nbformat": 4,
 "nbformat_minor": 2
}
